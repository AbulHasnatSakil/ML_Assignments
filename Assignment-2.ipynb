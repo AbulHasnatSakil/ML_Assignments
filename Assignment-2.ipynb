{
 "cells": [
  {
   "cell_type": "code",
   "execution_count": 123,
   "metadata": {
    "collapsed": true
   },
   "outputs": [],
   "source": [
    "import pandas as pd"
   ]
  },
  {
   "cell_type": "code",
   "execution_count": 124,
   "outputs": [
    {
     "data": {
      "text/plain": "   Marketing Spend  Administration  Transport     Area     Profit\n0        114523.61       136897.80  471784.10    Dhaka  192261.83\n1        162597.70       151377.59  443898.53      Ctg  191792.06\n2        153441.51       101145.55  407934.54  Rangpur  191050.39\n3        144372.41       118671.85  383199.62    Dhaka  182901.99\n4        142107.34        91391.77  366168.42  Rangpur  166187.94",
      "text/html": "<div>\n<style scoped>\n    .dataframe tbody tr th:only-of-type {\n        vertical-align: middle;\n    }\n\n    .dataframe tbody tr th {\n        vertical-align: top;\n    }\n\n    .dataframe thead th {\n        text-align: right;\n    }\n</style>\n<table border=\"1\" class=\"dataframe\">\n  <thead>\n    <tr style=\"text-align: right;\">\n      <th></th>\n      <th>Marketing Spend</th>\n      <th>Administration</th>\n      <th>Transport</th>\n      <th>Area</th>\n      <th>Profit</th>\n    </tr>\n  </thead>\n  <tbody>\n    <tr>\n      <th>0</th>\n      <td>114523.61</td>\n      <td>136897.80</td>\n      <td>471784.10</td>\n      <td>Dhaka</td>\n      <td>192261.83</td>\n    </tr>\n    <tr>\n      <th>1</th>\n      <td>162597.70</td>\n      <td>151377.59</td>\n      <td>443898.53</td>\n      <td>Ctg</td>\n      <td>191792.06</td>\n    </tr>\n    <tr>\n      <th>2</th>\n      <td>153441.51</td>\n      <td>101145.55</td>\n      <td>407934.54</td>\n      <td>Rangpur</td>\n      <td>191050.39</td>\n    </tr>\n    <tr>\n      <th>3</th>\n      <td>144372.41</td>\n      <td>118671.85</td>\n      <td>383199.62</td>\n      <td>Dhaka</td>\n      <td>182901.99</td>\n    </tr>\n    <tr>\n      <th>4</th>\n      <td>142107.34</td>\n      <td>91391.77</td>\n      <td>366168.42</td>\n      <td>Rangpur</td>\n      <td>166187.94</td>\n    </tr>\n  </tbody>\n</table>\n</div>"
     },
     "execution_count": 124,
     "metadata": {},
     "output_type": "execute_result"
    }
   ],
   "source": [
    "df = pd.read_csv('agora.csv')\n",
    "df.head()"
   ],
   "metadata": {
    "collapsed": false,
    "pycharm": {
     "name": "#%%\n"
    }
   }
  },
  {
   "cell_type": "code",
   "execution_count": 125,
   "outputs": [
    {
     "data": {
      "text/plain": "(50, 5)"
     },
     "execution_count": 125,
     "metadata": {},
     "output_type": "execute_result"
    }
   ],
   "source": [
    "df.shape"
   ],
   "metadata": {
    "collapsed": false,
    "pycharm": {
     "name": "#%%\n"
    }
   }
  },
  {
   "cell_type": "markdown",
   "source": [
    "# Feature Transformation"
   ],
   "metadata": {
    "collapsed": false,
    "pycharm": {
     "name": "#%% md\n"
    }
   }
  },
  {
   "cell_type": "markdown",
   "source": [
    "# Normalization / Min Max Scaler"
   ],
   "metadata": {
    "collapsed": false,
    "pycharm": {
     "name": "#%% md\n"
    }
   }
  },
  {
   "cell_type": "code",
   "execution_count": 126,
   "outputs": [],
   "source": [
    "from sklearn.preprocessing import MinMaxScaler"
   ],
   "metadata": {
    "collapsed": false,
    "pycharm": {
     "name": "#%%\n"
    }
   }
  },
  {
   "cell_type": "code",
   "execution_count": 127,
   "outputs": [],
   "source": [
    "m = MinMaxScaler()"
   ],
   "metadata": {
    "collapsed": false,
    "pycharm": {
     "name": "#%%\n"
    }
   }
  },
  {
   "cell_type": "code",
   "execution_count": 128,
   "outputs": [
    {
     "data": {
      "text/plain": "   Marketing Spend  Administration  Transport     Area     Profit\n0        114523.61       136897.80  471784.10    Dhaka  192261.83\n1        162597.70       151377.59  443898.53      Ctg  191792.06\n2        153441.51       101145.55  407934.54  Rangpur  191050.39\n3        144372.41       118671.85  383199.62    Dhaka  182901.99\n4        142107.34        91391.77  366168.42  Rangpur  166187.94",
      "text/html": "<div>\n<style scoped>\n    .dataframe tbody tr th:only-of-type {\n        vertical-align: middle;\n    }\n\n    .dataframe tbody tr th {\n        vertical-align: top;\n    }\n\n    .dataframe thead th {\n        text-align: right;\n    }\n</style>\n<table border=\"1\" class=\"dataframe\">\n  <thead>\n    <tr style=\"text-align: right;\">\n      <th></th>\n      <th>Marketing Spend</th>\n      <th>Administration</th>\n      <th>Transport</th>\n      <th>Area</th>\n      <th>Profit</th>\n    </tr>\n  </thead>\n  <tbody>\n    <tr>\n      <th>0</th>\n      <td>114523.61</td>\n      <td>136897.80</td>\n      <td>471784.10</td>\n      <td>Dhaka</td>\n      <td>192261.83</td>\n    </tr>\n    <tr>\n      <th>1</th>\n      <td>162597.70</td>\n      <td>151377.59</td>\n      <td>443898.53</td>\n      <td>Ctg</td>\n      <td>191792.06</td>\n    </tr>\n    <tr>\n      <th>2</th>\n      <td>153441.51</td>\n      <td>101145.55</td>\n      <td>407934.54</td>\n      <td>Rangpur</td>\n      <td>191050.39</td>\n    </tr>\n    <tr>\n      <th>3</th>\n      <td>144372.41</td>\n      <td>118671.85</td>\n      <td>383199.62</td>\n      <td>Dhaka</td>\n      <td>182901.99</td>\n    </tr>\n    <tr>\n      <th>4</th>\n      <td>142107.34</td>\n      <td>91391.77</td>\n      <td>366168.42</td>\n      <td>Rangpur</td>\n      <td>166187.94</td>\n    </tr>\n  </tbody>\n</table>\n</div>"
     },
     "execution_count": 128,
     "metadata": {},
     "output_type": "execute_result"
    }
   ],
   "source": [
    "df_1 = df.copy();df_1.head()"
   ],
   "metadata": {
    "collapsed": false,
    "pycharm": {
     "name": "#%%\n"
    }
   }
  },
  {
   "cell_type": "code",
   "execution_count": 129,
   "outputs": [],
   "source": [
    "marketing_spend_fit = m.fit(df_1[['Marketing Spend']]) #fit means training"
   ],
   "metadata": {
    "collapsed": false,
    "pycharm": {
     "name": "#%%\n"
    }
   }
  },
  {
   "cell_type": "code",
   "execution_count": 130,
   "outputs": [
    {
     "data": {
      "text/plain": "MinMaxScaler()"
     },
     "execution_count": 130,
     "metadata": {},
     "output_type": "execute_result"
    }
   ],
   "source": [
    "marketing_spend_fit"
   ],
   "metadata": {
    "collapsed": false,
    "pycharm": {
     "name": "#%%\n"
    }
   }
  },
  {
   "cell_type": "code",
   "execution_count": 131,
   "outputs": [
    {
     "data": {
      "text/plain": "   Marketing Spend  Administration  Transport     Area     Profit\n0        114523.61       136897.80  471784.10    Dhaka  192261.83\n1        162597.70       151377.59  443898.53      Ctg  191792.06\n2        153441.51       101145.55  407934.54  Rangpur  191050.39\n3        144372.41       118671.85  383199.62    Dhaka  182901.99\n4        142107.34        91391.77  366168.42  Rangpur  166187.94",
      "text/html": "<div>\n<style scoped>\n    .dataframe tbody tr th:only-of-type {\n        vertical-align: middle;\n    }\n\n    .dataframe tbody tr th {\n        vertical-align: top;\n    }\n\n    .dataframe thead th {\n        text-align: right;\n    }\n</style>\n<table border=\"1\" class=\"dataframe\">\n  <thead>\n    <tr style=\"text-align: right;\">\n      <th></th>\n      <th>Marketing Spend</th>\n      <th>Administration</th>\n      <th>Transport</th>\n      <th>Area</th>\n      <th>Profit</th>\n    </tr>\n  </thead>\n  <tbody>\n    <tr>\n      <th>0</th>\n      <td>114523.61</td>\n      <td>136897.80</td>\n      <td>471784.10</td>\n      <td>Dhaka</td>\n      <td>192261.83</td>\n    </tr>\n    <tr>\n      <th>1</th>\n      <td>162597.70</td>\n      <td>151377.59</td>\n      <td>443898.53</td>\n      <td>Ctg</td>\n      <td>191792.06</td>\n    </tr>\n    <tr>\n      <th>2</th>\n      <td>153441.51</td>\n      <td>101145.55</td>\n      <td>407934.54</td>\n      <td>Rangpur</td>\n      <td>191050.39</td>\n    </tr>\n    <tr>\n      <th>3</th>\n      <td>144372.41</td>\n      <td>118671.85</td>\n      <td>383199.62</td>\n      <td>Dhaka</td>\n      <td>182901.99</td>\n    </tr>\n    <tr>\n      <th>4</th>\n      <td>142107.34</td>\n      <td>91391.77</td>\n      <td>366168.42</td>\n      <td>Rangpur</td>\n      <td>166187.94</td>\n    </tr>\n  </tbody>\n</table>\n</div>"
     },
     "execution_count": 131,
     "metadata": {},
     "output_type": "execute_result"
    }
   ],
   "source": [
    "df_1.head()"
   ],
   "metadata": {
    "collapsed": false,
    "pycharm": {
     "name": "#%%\n"
    }
   }
  },
  {
   "cell_type": "code",
   "execution_count": 132,
   "outputs": [],
   "source": [
    "df_1['Marketing Spend'] = m.transform(df_1[['Marketing Spend']]) # transform means replace"
   ],
   "metadata": {
    "collapsed": false,
    "pycharm": {
     "name": "#%%\n"
    }
   }
  },
  {
   "cell_type": "code",
   "execution_count": 133,
   "outputs": [
    {
     "data": {
      "text/plain": "   Marketing Spend  Administration  Transport     Area     Profit\n0         0.692617       136897.80  471784.10    Dhaka  192261.83\n1         0.983359       151377.59  443898.53      Ctg  191792.06\n2         0.927985       101145.55  407934.54  Rangpur  191050.39\n3         0.873136       118671.85  383199.62    Dhaka  182901.99\n4         0.859438        91391.77  366168.42  Rangpur  166187.94",
      "text/html": "<div>\n<style scoped>\n    .dataframe tbody tr th:only-of-type {\n        vertical-align: middle;\n    }\n\n    .dataframe tbody tr th {\n        vertical-align: top;\n    }\n\n    .dataframe thead th {\n        text-align: right;\n    }\n</style>\n<table border=\"1\" class=\"dataframe\">\n  <thead>\n    <tr style=\"text-align: right;\">\n      <th></th>\n      <th>Marketing Spend</th>\n      <th>Administration</th>\n      <th>Transport</th>\n      <th>Area</th>\n      <th>Profit</th>\n    </tr>\n  </thead>\n  <tbody>\n    <tr>\n      <th>0</th>\n      <td>0.692617</td>\n      <td>136897.80</td>\n      <td>471784.10</td>\n      <td>Dhaka</td>\n      <td>192261.83</td>\n    </tr>\n    <tr>\n      <th>1</th>\n      <td>0.983359</td>\n      <td>151377.59</td>\n      <td>443898.53</td>\n      <td>Ctg</td>\n      <td>191792.06</td>\n    </tr>\n    <tr>\n      <th>2</th>\n      <td>0.927985</td>\n      <td>101145.55</td>\n      <td>407934.54</td>\n      <td>Rangpur</td>\n      <td>191050.39</td>\n    </tr>\n    <tr>\n      <th>3</th>\n      <td>0.873136</td>\n      <td>118671.85</td>\n      <td>383199.62</td>\n      <td>Dhaka</td>\n      <td>182901.99</td>\n    </tr>\n    <tr>\n      <th>4</th>\n      <td>0.859438</td>\n      <td>91391.77</td>\n      <td>366168.42</td>\n      <td>Rangpur</td>\n      <td>166187.94</td>\n    </tr>\n  </tbody>\n</table>\n</div>"
     },
     "execution_count": 133,
     "metadata": {},
     "output_type": "execute_result"
    }
   ],
   "source": [
    "df_1.head()"
   ],
   "metadata": {
    "collapsed": false,
    "pycharm": {
     "name": "#%%\n"
    }
   }
  },
  {
   "cell_type": "code",
   "execution_count": 134,
   "outputs": [],
   "source": [
    "df_1['Administration'] = m.fit_transform(df_1[['Administration']]) #fit means training ;  transform means replace\n",
    "df_1['Transport'] = m.fit_transform(df_1[['Transport']])"
   ],
   "metadata": {
    "collapsed": false,
    "pycharm": {
     "name": "#%%\n"
    }
   }
  },
  {
   "cell_type": "code",
   "execution_count": 135,
   "outputs": [
    {
     "data": {
      "text/plain": "   Marketing Spend  Administration  Transport     Area     Profit\n0         0.692617        0.651744   1.000000    Dhaka  192261.83\n1         0.983359        0.761972   0.940893      Ctg  191792.06\n2         0.927985        0.379579   0.864664  Rangpur  191050.39\n3         0.873136        0.512998   0.812235    Dhaka  182901.99\n4         0.859438        0.305328   0.776136  Rangpur  166187.94",
      "text/html": "<div>\n<style scoped>\n    .dataframe tbody tr th:only-of-type {\n        vertical-align: middle;\n    }\n\n    .dataframe tbody tr th {\n        vertical-align: top;\n    }\n\n    .dataframe thead th {\n        text-align: right;\n    }\n</style>\n<table border=\"1\" class=\"dataframe\">\n  <thead>\n    <tr style=\"text-align: right;\">\n      <th></th>\n      <th>Marketing Spend</th>\n      <th>Administration</th>\n      <th>Transport</th>\n      <th>Area</th>\n      <th>Profit</th>\n    </tr>\n  </thead>\n  <tbody>\n    <tr>\n      <th>0</th>\n      <td>0.692617</td>\n      <td>0.651744</td>\n      <td>1.000000</td>\n      <td>Dhaka</td>\n      <td>192261.83</td>\n    </tr>\n    <tr>\n      <th>1</th>\n      <td>0.983359</td>\n      <td>0.761972</td>\n      <td>0.940893</td>\n      <td>Ctg</td>\n      <td>191792.06</td>\n    </tr>\n    <tr>\n      <th>2</th>\n      <td>0.927985</td>\n      <td>0.379579</td>\n      <td>0.864664</td>\n      <td>Rangpur</td>\n      <td>191050.39</td>\n    </tr>\n    <tr>\n      <th>3</th>\n      <td>0.873136</td>\n      <td>0.512998</td>\n      <td>0.812235</td>\n      <td>Dhaka</td>\n      <td>182901.99</td>\n    </tr>\n    <tr>\n      <th>4</th>\n      <td>0.859438</td>\n      <td>0.305328</td>\n      <td>0.776136</td>\n      <td>Rangpur</td>\n      <td>166187.94</td>\n    </tr>\n  </tbody>\n</table>\n</div>"
     },
     "execution_count": 135,
     "metadata": {},
     "output_type": "execute_result"
    }
   ],
   "source": [
    "df_1.head()"
   ],
   "metadata": {
    "collapsed": false,
    "pycharm": {
     "name": "#%%\n"
    }
   }
  },
  {
   "cell_type": "markdown",
   "source": [
    "Standardization"
   ],
   "metadata": {
    "collapsed": false,
    "pycharm": {
     "name": "#%% md\n"
    }
   }
  },
  {
   "cell_type": "code",
   "execution_count": 136,
   "outputs": [],
   "source": [
    "from sklearn.preprocessing import StandardScaler"
   ],
   "metadata": {
    "collapsed": false,
    "pycharm": {
     "name": "#%%\n"
    }
   }
  },
  {
   "cell_type": "code",
   "execution_count": 137,
   "outputs": [
    {
     "data": {
      "text/plain": "   Marketing Spend  Administration  Transport     Area     Profit\n0        114523.61       136897.80  471784.10    Dhaka  192261.83\n1        162597.70       151377.59  443898.53      Ctg  191792.06\n2        153441.51       101145.55  407934.54  Rangpur  191050.39\n3        144372.41       118671.85  383199.62    Dhaka  182901.99\n4        142107.34        91391.77  366168.42  Rangpur  166187.94",
      "text/html": "<div>\n<style scoped>\n    .dataframe tbody tr th:only-of-type {\n        vertical-align: middle;\n    }\n\n    .dataframe tbody tr th {\n        vertical-align: top;\n    }\n\n    .dataframe thead th {\n        text-align: right;\n    }\n</style>\n<table border=\"1\" class=\"dataframe\">\n  <thead>\n    <tr style=\"text-align: right;\">\n      <th></th>\n      <th>Marketing Spend</th>\n      <th>Administration</th>\n      <th>Transport</th>\n      <th>Area</th>\n      <th>Profit</th>\n    </tr>\n  </thead>\n  <tbody>\n    <tr>\n      <th>0</th>\n      <td>114523.61</td>\n      <td>136897.80</td>\n      <td>471784.10</td>\n      <td>Dhaka</td>\n      <td>192261.83</td>\n    </tr>\n    <tr>\n      <th>1</th>\n      <td>162597.70</td>\n      <td>151377.59</td>\n      <td>443898.53</td>\n      <td>Ctg</td>\n      <td>191792.06</td>\n    </tr>\n    <tr>\n      <th>2</th>\n      <td>153441.51</td>\n      <td>101145.55</td>\n      <td>407934.54</td>\n      <td>Rangpur</td>\n      <td>191050.39</td>\n    </tr>\n    <tr>\n      <th>3</th>\n      <td>144372.41</td>\n      <td>118671.85</td>\n      <td>383199.62</td>\n      <td>Dhaka</td>\n      <td>182901.99</td>\n    </tr>\n    <tr>\n      <th>4</th>\n      <td>142107.34</td>\n      <td>91391.77</td>\n      <td>366168.42</td>\n      <td>Rangpur</td>\n      <td>166187.94</td>\n    </tr>\n  </tbody>\n</table>\n</div>"
     },
     "execution_count": 137,
     "metadata": {},
     "output_type": "execute_result"
    }
   ],
   "source": [
    "#create object for StandardScaler\n",
    "St = StandardScaler()\n",
    "df_2 = df.copy();df_2.head()"
   ],
   "metadata": {
    "collapsed": false,
    "pycharm": {
     "name": "#%%\n"
    }
   }
  },
  {
   "cell_type": "code",
   "execution_count": 138,
   "outputs": [],
   "source": [
    "#traning and replcae\n",
    "df_2['Marketing Spend'] = St.fit_transform(df_2[['Marketing Spend']])\n",
    "df_2['Administration'] = St.fit_transform(df_2[['Administration']])\n",
    "df_2['Transport'] = St.fit_transform(df_2[['Transport']])\n",
    "#all columns"
   ],
   "metadata": {
    "collapsed": false,
    "pycharm": {
     "name": "#%%\n"
    }
   }
  },
  {
   "cell_type": "code",
   "execution_count": 139,
   "outputs": [
    {
     "data": {
      "text/plain": "   Marketing Spend  Administration  Transport     Area     Profit\n0         0.897913        0.560753   2.165287    Dhaka  192261.83\n1         1.955860        1.082807   1.929843      Ctg  191792.06\n2         1.754364       -0.728257   1.626191  Rangpur  191050.39\n3         1.554784       -0.096365   1.417348    Dhaka  182901.99\n4         1.504937       -1.079919   1.273550  Rangpur  166187.94",
      "text/html": "<div>\n<style scoped>\n    .dataframe tbody tr th:only-of-type {\n        vertical-align: middle;\n    }\n\n    .dataframe tbody tr th {\n        vertical-align: top;\n    }\n\n    .dataframe thead th {\n        text-align: right;\n    }\n</style>\n<table border=\"1\" class=\"dataframe\">\n  <thead>\n    <tr style=\"text-align: right;\">\n      <th></th>\n      <th>Marketing Spend</th>\n      <th>Administration</th>\n      <th>Transport</th>\n      <th>Area</th>\n      <th>Profit</th>\n    </tr>\n  </thead>\n  <tbody>\n    <tr>\n      <th>0</th>\n      <td>0.897913</td>\n      <td>0.560753</td>\n      <td>2.165287</td>\n      <td>Dhaka</td>\n      <td>192261.83</td>\n    </tr>\n    <tr>\n      <th>1</th>\n      <td>1.955860</td>\n      <td>1.082807</td>\n      <td>1.929843</td>\n      <td>Ctg</td>\n      <td>191792.06</td>\n    </tr>\n    <tr>\n      <th>2</th>\n      <td>1.754364</td>\n      <td>-0.728257</td>\n      <td>1.626191</td>\n      <td>Rangpur</td>\n      <td>191050.39</td>\n    </tr>\n    <tr>\n      <th>3</th>\n      <td>1.554784</td>\n      <td>-0.096365</td>\n      <td>1.417348</td>\n      <td>Dhaka</td>\n      <td>182901.99</td>\n    </tr>\n    <tr>\n      <th>4</th>\n      <td>1.504937</td>\n      <td>-1.079919</td>\n      <td>1.273550</td>\n      <td>Rangpur</td>\n      <td>166187.94</td>\n    </tr>\n  </tbody>\n</table>\n</div>"
     },
     "execution_count": 139,
     "metadata": {},
     "output_type": "execute_result"
    }
   ],
   "source": [
    "df_2.head()"
   ],
   "metadata": {
    "collapsed": false,
    "pycharm": {
     "name": "#%%\n"
    }
   }
  },
  {
   "cell_type": "markdown",
   "source": [
    "# Max Absulate Scaler"
   ],
   "metadata": {
    "collapsed": false,
    "pycharm": {
     "name": "#%% md\n"
    }
   }
  },
  {
   "cell_type": "code",
   "execution_count": 152,
   "outputs": [
    {
     "data": {
      "text/plain": "   Marketing Spend  Administration  Transport     Area     Profit\n0        114523.61       136897.80  471784.10    Dhaka  192261.83\n1        162597.70       151377.59  443898.53      Ctg  191792.06\n2        153441.51       101145.55  407934.54  Rangpur  191050.39\n3        144372.41       118671.85  383199.62    Dhaka  182901.99\n4        142107.34        91391.77  366168.42  Rangpur  166187.94",
      "text/html": "<div>\n<style scoped>\n    .dataframe tbody tr th:only-of-type {\n        vertical-align: middle;\n    }\n\n    .dataframe tbody tr th {\n        vertical-align: top;\n    }\n\n    .dataframe thead th {\n        text-align: right;\n    }\n</style>\n<table border=\"1\" class=\"dataframe\">\n  <thead>\n    <tr style=\"text-align: right;\">\n      <th></th>\n      <th>Marketing Spend</th>\n      <th>Administration</th>\n      <th>Transport</th>\n      <th>Area</th>\n      <th>Profit</th>\n    </tr>\n  </thead>\n  <tbody>\n    <tr>\n      <th>0</th>\n      <td>114523.61</td>\n      <td>136897.80</td>\n      <td>471784.10</td>\n      <td>Dhaka</td>\n      <td>192261.83</td>\n    </tr>\n    <tr>\n      <th>1</th>\n      <td>162597.70</td>\n      <td>151377.59</td>\n      <td>443898.53</td>\n      <td>Ctg</td>\n      <td>191792.06</td>\n    </tr>\n    <tr>\n      <th>2</th>\n      <td>153441.51</td>\n      <td>101145.55</td>\n      <td>407934.54</td>\n      <td>Rangpur</td>\n      <td>191050.39</td>\n    </tr>\n    <tr>\n      <th>3</th>\n      <td>144372.41</td>\n      <td>118671.85</td>\n      <td>383199.62</td>\n      <td>Dhaka</td>\n      <td>182901.99</td>\n    </tr>\n    <tr>\n      <th>4</th>\n      <td>142107.34</td>\n      <td>91391.77</td>\n      <td>366168.42</td>\n      <td>Rangpur</td>\n      <td>166187.94</td>\n    </tr>\n  </tbody>\n</table>\n</div>"
     },
     "execution_count": 152,
     "metadata": {},
     "output_type": "execute_result"
    }
   ],
   "source": [
    "df_3 = df.copy();df_3.head()"
   ],
   "metadata": {
    "collapsed": false,
    "pycharm": {
     "name": "#%%\n"
    }
   }
  },
  {
   "cell_type": "code",
   "execution_count": 156,
   "outputs": [
    {
     "name": "stdout",
     "output_type": "stream",
     "text": [
      "Max Administration: 182645.56\n",
      "Max Marketing Spend: 165349.2\n",
      "Max Transport: 471784.1\n"
     ]
    }
   ],
   "source": [
    "# #find absulate value for perticular column and store in a varibale -> .abs()\n",
    "#\n",
    "max_abs_administration = df_3['Administration'].abs().max()\n",
    "max_abs_transport = df_3['Transport'].abs().max()\n",
    "max_abs_marketingSpend = df_3['Marketing Spend'].abs().max()\n",
    "print('Max Administration:',max_abs_administration);print('Max Marketing Spend:',max_abs_marketingSpend);print('Max Transport:',max_abs_transport)\n",
    "#\n",
    "# #find max value for this varibale -> .max()\n"
   ],
   "metadata": {
    "collapsed": false,
    "pycharm": {
     "name": "#%%\n"
    }
   }
  },
  {
   "cell_type": "code",
   "execution_count": 154,
   "outputs": [],
   "source": [
    "df_3['Administration'] = df_3['Administration'] / max_abs_administration\n",
    "df_3['Transport'] = df_3['Transport'] / max_abs_transport\n",
    "df_3['Marketing Spend'] = df_3['Marketing Spend'] / max_abs_marketingSpend"
   ],
   "metadata": {
    "collapsed": false,
    "pycharm": {
     "name": "#%%\n"
    }
   }
  },
  {
   "cell_type": "code",
   "execution_count": 155,
   "outputs": [
    {
     "data": {
      "text/plain": "   Marketing Spend  Administration  Transport     Area     Profit\n0         0.692617        0.749527   1.000000    Dhaka  192261.83\n1         0.983359        0.828805   0.940893      Ctg  191792.06\n2         0.927985        0.553781   0.864664  Rangpur  191050.39\n3         0.873136        0.649738   0.812235    Dhaka  182901.99\n4         0.859438        0.500378   0.776136  Rangpur  166187.94",
      "text/html": "<div>\n<style scoped>\n    .dataframe tbody tr th:only-of-type {\n        vertical-align: middle;\n    }\n\n    .dataframe tbody tr th {\n        vertical-align: top;\n    }\n\n    .dataframe thead th {\n        text-align: right;\n    }\n</style>\n<table border=\"1\" class=\"dataframe\">\n  <thead>\n    <tr style=\"text-align: right;\">\n      <th></th>\n      <th>Marketing Spend</th>\n      <th>Administration</th>\n      <th>Transport</th>\n      <th>Area</th>\n      <th>Profit</th>\n    </tr>\n  </thead>\n  <tbody>\n    <tr>\n      <th>0</th>\n      <td>0.692617</td>\n      <td>0.749527</td>\n      <td>1.000000</td>\n      <td>Dhaka</td>\n      <td>192261.83</td>\n    </tr>\n    <tr>\n      <th>1</th>\n      <td>0.983359</td>\n      <td>0.828805</td>\n      <td>0.940893</td>\n      <td>Ctg</td>\n      <td>191792.06</td>\n    </tr>\n    <tr>\n      <th>2</th>\n      <td>0.927985</td>\n      <td>0.553781</td>\n      <td>0.864664</td>\n      <td>Rangpur</td>\n      <td>191050.39</td>\n    </tr>\n    <tr>\n      <th>3</th>\n      <td>0.873136</td>\n      <td>0.649738</td>\n      <td>0.812235</td>\n      <td>Dhaka</td>\n      <td>182901.99</td>\n    </tr>\n    <tr>\n      <th>4</th>\n      <td>0.859438</td>\n      <td>0.500378</td>\n      <td>0.776136</td>\n      <td>Rangpur</td>\n      <td>166187.94</td>\n    </tr>\n  </tbody>\n</table>\n</div>"
     },
     "execution_count": 155,
     "metadata": {},
     "output_type": "execute_result"
    }
   ],
   "source": [
    "df_3.head()"
   ],
   "metadata": {
    "collapsed": false,
    "pycharm": {
     "name": "#%%\n"
    }
   }
  },
  {
   "cell_type": "markdown",
   "source": [
    "# Robust"
   ],
   "metadata": {
    "collapsed": false,
    "pycharm": {
     "name": "#%% md\n"
    }
   }
  },
  {
   "cell_type": "code",
   "execution_count": 157,
   "outputs": [],
   "source": [
    "df_4 = df.copy()"
   ],
   "metadata": {
    "collapsed": false,
    "pycharm": {
     "name": "#%%\n"
    }
   }
  },
  {
   "cell_type": "code",
   "execution_count": 158,
   "outputs": [],
   "source": [
    "from sklearn.preprocessing import RobustScaler"
   ],
   "metadata": {
    "collapsed": false,
    "pycharm": {
     "name": "#%%\n"
    }
   }
  },
  {
   "cell_type": "code",
   "execution_count": 159,
   "outputs": [],
   "source": [
    "Rs = RobustScaler()"
   ],
   "metadata": {
    "collapsed": false,
    "pycharm": {
     "name": "#%%\n"
    }
   }
  },
  {
   "cell_type": "code",
   "execution_count": 163,
   "outputs": [],
   "source": [
    "df_4['Marketing Spend'] = Rs.fit_transform(df_4[['Marketing Spend']])\n",
    "df_4['Administration'] = Rs.fit_transform(df_4[['Administration']])\n",
    "df_4['Transport'] = Rs.fit_transform(df_4[['Transport']])"
   ],
   "metadata": {
    "collapsed": false,
    "pycharm": {
     "name": "#%%\n"
    }
   }
  },
  {
   "cell_type": "code",
   "execution_count": 164,
   "outputs": [
    {
     "data": {
      "text/plain": "   Marketing Spend  Administration  Transport     Area     Profit\n0         0.672530        0.345355   1.552016    Dhaka  192261.83\n1         1.452113        0.697565   1.383714      Ctg  191792.06\n2         1.303634       -0.524290   1.166654  Rangpur  191050.39\n3         1.156567       -0.097977   1.017368    Dhaka  182901.99\n4         1.119836       -0.761543   0.914576  Rangpur  166187.94",
      "text/html": "<div>\n<style scoped>\n    .dataframe tbody tr th:only-of-type {\n        vertical-align: middle;\n    }\n\n    .dataframe tbody tr th {\n        vertical-align: top;\n    }\n\n    .dataframe thead th {\n        text-align: right;\n    }\n</style>\n<table border=\"1\" class=\"dataframe\">\n  <thead>\n    <tr style=\"text-align: right;\">\n      <th></th>\n      <th>Marketing Spend</th>\n      <th>Administration</th>\n      <th>Transport</th>\n      <th>Area</th>\n      <th>Profit</th>\n    </tr>\n  </thead>\n  <tbody>\n    <tr>\n      <th>0</th>\n      <td>0.672530</td>\n      <td>0.345355</td>\n      <td>1.552016</td>\n      <td>Dhaka</td>\n      <td>192261.83</td>\n    </tr>\n    <tr>\n      <th>1</th>\n      <td>1.452113</td>\n      <td>0.697565</td>\n      <td>1.383714</td>\n      <td>Ctg</td>\n      <td>191792.06</td>\n    </tr>\n    <tr>\n      <th>2</th>\n      <td>1.303634</td>\n      <td>-0.524290</td>\n      <td>1.166654</td>\n      <td>Rangpur</td>\n      <td>191050.39</td>\n    </tr>\n    <tr>\n      <th>3</th>\n      <td>1.156567</td>\n      <td>-0.097977</td>\n      <td>1.017368</td>\n      <td>Dhaka</td>\n      <td>182901.99</td>\n    </tr>\n    <tr>\n      <th>4</th>\n      <td>1.119836</td>\n      <td>-0.761543</td>\n      <td>0.914576</td>\n      <td>Rangpur</td>\n      <td>166187.94</td>\n    </tr>\n  </tbody>\n</table>\n</div>"
     },
     "execution_count": 164,
     "metadata": {},
     "output_type": "execute_result"
    }
   ],
   "source": [
    "df_4.head()"
   ],
   "metadata": {
    "collapsed": false,
    "pycharm": {
     "name": "#%%\n"
    }
   }
  }
 ],
 "metadata": {
  "kernelspec": {
   "display_name": "Python 3",
   "language": "python",
   "name": "python3"
  },
  "language_info": {
   "codemirror_mode": {
    "name": "ipython",
    "version": 2
   },
   "file_extension": ".py",
   "mimetype": "text/x-python",
   "name": "python",
   "nbconvert_exporter": "python",
   "pygments_lexer": "ipython2",
   "version": "2.7.6"
  }
 },
 "nbformat": 4,
 "nbformat_minor": 0
}