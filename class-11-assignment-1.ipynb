{
 "cells": [
  {
   "cell_type": "code",
   "execution_count": 1,
   "metadata": {
    "collapsed": true
   },
   "outputs": [],
   "source": [
    "import pandas as pd,numpy as np,matplotlib.pyplot as plt"
   ]
  },
  {
   "cell_type": "code",
   "execution_count": 2,
   "metadata": {
    "pycharm": {
     "name": "#%%\n"
    }
   },
   "outputs": [
    {
     "data": {
      "text/plain": "  Gender     Height      Weight\n0   Male  73.847017  241.893563\n1   Male  68.781904  162.310473\n2   Male  74.110105  212.740856\n3   Male  71.730978  220.042470\n4   Male  69.881796  206.349801",
      "text/html": "<div>\n<style scoped>\n    .dataframe tbody tr th:only-of-type {\n        vertical-align: middle;\n    }\n\n    .dataframe tbody tr th {\n        vertical-align: top;\n    }\n\n    .dataframe thead th {\n        text-align: right;\n    }\n</style>\n<table border=\"1\" class=\"dataframe\">\n  <thead>\n    <tr style=\"text-align: right;\">\n      <th></th>\n      <th>Gender</th>\n      <th>Height</th>\n      <th>Weight</th>\n    </tr>\n  </thead>\n  <tbody>\n    <tr>\n      <th>0</th>\n      <td>Male</td>\n      <td>73.847017</td>\n      <td>241.893563</td>\n    </tr>\n    <tr>\n      <th>1</th>\n      <td>Male</td>\n      <td>68.781904</td>\n      <td>162.310473</td>\n    </tr>\n    <tr>\n      <th>2</th>\n      <td>Male</td>\n      <td>74.110105</td>\n      <td>212.740856</td>\n    </tr>\n    <tr>\n      <th>3</th>\n      <td>Male</td>\n      <td>71.730978</td>\n      <td>220.042470</td>\n    </tr>\n    <tr>\n      <th>4</th>\n      <td>Male</td>\n      <td>69.881796</td>\n      <td>206.349801</td>\n    </tr>\n  </tbody>\n</table>\n</div>"
     },
     "execution_count": 2,
     "metadata": {},
     "output_type": "execute_result"
    }
   ],
   "source": [
    "df = pd.read_csv(\"weight-height.csv\");df.head()"
   ]
  },
  {
   "cell_type": "code",
   "execution_count": 3,
   "metadata": {
    "pycharm": {
     "name": "#%%\n"
    }
   },
   "outputs": [
    {
     "data": {
      "text/plain": "Gender    0\nHeight    0\nWeight    0\ndtype: int64"
     },
     "execution_count": 3,
     "metadata": {},
     "output_type": "execute_result"
    }
   ],
   "source": [
    "df.isnull().sum()"
   ]
  },
  {
   "cell_type": "code",
   "execution_count": 4,
   "metadata": {
    "pycharm": {
     "name": "#%%\n"
    }
   },
   "outputs": [
    {
     "data": {
      "text/plain": "       Gender       Height       Weight\ncount    8555  8555.000000  8555.000000\nunique      2          NaN          NaN\ntop      Male          NaN          NaN\nfreq     5000          NaN          NaN\nmean      NaN    66.809925   165.632735\nstd       NaN     3.851454    32.043922\nmin       NaN    54.616858    65.780000\n25%       NaN    63.957684   139.876803\n50%       NaN    66.985923   168.521567\n75%       NaN    69.604427   190.666305\nmax       NaN    80.450000   269.989698",
      "text/html": "<div>\n<style scoped>\n    .dataframe tbody tr th:only-of-type {\n        vertical-align: middle;\n    }\n\n    .dataframe tbody tr th {\n        vertical-align: top;\n    }\n\n    .dataframe thead th {\n        text-align: right;\n    }\n</style>\n<table border=\"1\" class=\"dataframe\">\n  <thead>\n    <tr style=\"text-align: right;\">\n      <th></th>\n      <th>Gender</th>\n      <th>Height</th>\n      <th>Weight</th>\n    </tr>\n  </thead>\n  <tbody>\n    <tr>\n      <th>count</th>\n      <td>8555</td>\n      <td>8555.000000</td>\n      <td>8555.000000</td>\n    </tr>\n    <tr>\n      <th>unique</th>\n      <td>2</td>\n      <td>NaN</td>\n      <td>NaN</td>\n    </tr>\n    <tr>\n      <th>top</th>\n      <td>Male</td>\n      <td>NaN</td>\n      <td>NaN</td>\n    </tr>\n    <tr>\n      <th>freq</th>\n      <td>5000</td>\n      <td>NaN</td>\n      <td>NaN</td>\n    </tr>\n    <tr>\n      <th>mean</th>\n      <td>NaN</td>\n      <td>66.809925</td>\n      <td>165.632735</td>\n    </tr>\n    <tr>\n      <th>std</th>\n      <td>NaN</td>\n      <td>3.851454</td>\n      <td>32.043922</td>\n    </tr>\n    <tr>\n      <th>min</th>\n      <td>NaN</td>\n      <td>54.616858</td>\n      <td>65.780000</td>\n    </tr>\n    <tr>\n      <th>25%</th>\n      <td>NaN</td>\n      <td>63.957684</td>\n      <td>139.876803</td>\n    </tr>\n    <tr>\n      <th>50%</th>\n      <td>NaN</td>\n      <td>66.985923</td>\n      <td>168.521567</td>\n    </tr>\n    <tr>\n      <th>75%</th>\n      <td>NaN</td>\n      <td>69.604427</td>\n      <td>190.666305</td>\n    </tr>\n    <tr>\n      <th>max</th>\n      <td>NaN</td>\n      <td>80.450000</td>\n      <td>269.989698</td>\n    </tr>\n  </tbody>\n</table>\n</div>"
     },
     "execution_count": 4,
     "metadata": {},
     "output_type": "execute_result"
    }
   ],
   "source": [
    "df.describe(include='all')"
   ]
  },
  {
   "cell_type": "code",
   "execution_count": 5,
   "metadata": {
    "pycharm": {
     "name": "#%%\n"
    }
   },
   "outputs": [],
   "source": [
    "from sklearn.preprocessing import LabelEncoder"
   ]
  },
  {
   "cell_type": "code",
   "execution_count": 6,
   "metadata": {
    "pycharm": {
     "name": "#%%\n"
    }
   },
   "outputs": [],
   "source": [
    "le = LabelEncoder()"
   ]
  },
  {
   "cell_type": "code",
   "execution_count": 7,
   "metadata": {
    "pycharm": {
     "name": "#%%\n"
    }
   },
   "outputs": [
    {
     "data": {
      "text/plain": "   Gender     Height      Weight\n0       1  73.847017  241.893563\n1       1  68.781904  162.310473\n2       1  74.110105  212.740856\n3       1  71.730978  220.042470\n4       1  69.881796  206.349801",
      "text/html": "<div>\n<style scoped>\n    .dataframe tbody tr th:only-of-type {\n        vertical-align: middle;\n    }\n\n    .dataframe tbody tr th {\n        vertical-align: top;\n    }\n\n    .dataframe thead th {\n        text-align: right;\n    }\n</style>\n<table border=\"1\" class=\"dataframe\">\n  <thead>\n    <tr style=\"text-align: right;\">\n      <th></th>\n      <th>Gender</th>\n      <th>Height</th>\n      <th>Weight</th>\n    </tr>\n  </thead>\n  <tbody>\n    <tr>\n      <th>0</th>\n      <td>1</td>\n      <td>73.847017</td>\n      <td>241.893563</td>\n    </tr>\n    <tr>\n      <th>1</th>\n      <td>1</td>\n      <td>68.781904</td>\n      <td>162.310473</td>\n    </tr>\n    <tr>\n      <th>2</th>\n      <td>1</td>\n      <td>74.110105</td>\n      <td>212.740856</td>\n    </tr>\n    <tr>\n      <th>3</th>\n      <td>1</td>\n      <td>71.730978</td>\n      <td>220.042470</td>\n    </tr>\n    <tr>\n      <th>4</th>\n      <td>1</td>\n      <td>69.881796</td>\n      <td>206.349801</td>\n    </tr>\n  </tbody>\n</table>\n</div>"
     },
     "execution_count": 7,
     "metadata": {},
     "output_type": "execute_result"
    }
   ],
   "source": [
    "df.Gender = le.fit_transform(df.Gender);df.head()"
   ]
  },
  {
   "cell_type": "code",
   "execution_count": 8,
   "metadata": {
    "pycharm": {
     "name": "#%%\n"
    }
   },
   "outputs": [],
   "source": [
    "from sklearn.model_selection import train_test_split"
   ]
  },
  {
   "cell_type": "code",
   "execution_count": 9,
   "metadata": {
    "pycharm": {
     "name": "#%%\n"
    }
   },
   "outputs": [],
   "source": [
    "x = df.drop(['Weight'],axis=1).values;y = df['Weight'].values"
   ]
  },
  {
   "cell_type": "code",
   "execution_count": 10,
   "metadata": {
    "pycharm": {
     "name": "#%%\n"
    }
   },
   "outputs": [
    {
     "name": "stdout",
     "output_type": "stream",
     "text": [
      "[[ 1.         73.84701702]\n",
      " [ 1.         68.78190405]\n",
      " [ 1.         74.11010539]\n",
      " ...\n",
      " [ 0.         65.58405676]\n",
      " [ 0.         67.42997138]\n",
      " [ 0.         60.92179087]]\n"
     ]
    }
   ],
   "source": [
    "print(x)"
   ]
  },
  {
   "cell_type": "code",
   "execution_count": 11,
   "metadata": {
    "pycharm": {
     "name": "#%%\n"
    }
   },
   "outputs": [],
   "source": [
    "xtrain,xtest, ytrain,ytest = train_test_split(x,y,train_size=.7,random_state=42)"
   ]
  },
  {
   "cell_type": "code",
   "execution_count": 12,
   "metadata": {
    "pycharm": {
     "name": "#%%\n"
    }
   },
   "outputs": [
    {
     "data": {
      "text/plain": "LinearRegression()"
     },
     "execution_count": 12,
     "metadata": {},
     "output_type": "execute_result"
    }
   ],
   "source": [
    "from sklearn.linear_model import LinearRegression\n",
    "ml = LinearRegression()\n",
    "ml.fit(xtrain,ytrain)"
   ]
  },
  {
   "cell_type": "code",
   "execution_count": 13,
   "metadata": {
    "pycharm": {
     "name": "#%%\n"
    }
   },
   "outputs": [
    {
     "name": "stdout",
     "output_type": "stream",
     "text": [
      "[142.44868114 186.0517281  198.42283706 ... 102.94080643 190.83713617\n",
      " 143.34786753]\n"
     ]
    }
   ],
   "source": [
    "ml_pred = ml.predict(xtest)\n",
    "print(ml_pred)"
   ]
  },
  {
   "cell_type": "code",
   "execution_count": 14,
   "metadata": {
    "pycharm": {
     "name": "#%%\n"
    }
   },
   "outputs": [],
   "source": [
    "from sklearn.metrics import  r2_score,mean_squared_error"
   ]
  },
  {
   "cell_type": "code",
   "execution_count": 15,
   "metadata": {
    "pycharm": {
     "name": "#%%\n"
    }
   },
   "outputs": [
    {
     "data": {
      "text/plain": "0.9059112424422664"
     },
     "execution_count": 15,
     "metadata": {},
     "output_type": "execute_result"
    }
   ],
   "source": [
    "r2_score(ytest,ml_pred)"
   ]
  },
  {
   "cell_type": "code",
   "execution_count": 16,
   "metadata": {
    "pycharm": {
     "name": "#%%\n"
    }
   },
   "outputs": [
    {
     "data": {
      "text/plain": "96.83734437830556"
     },
     "execution_count": 16,
     "metadata": {},
     "output_type": "execute_result"
    }
   ],
   "source": [
    "mean_squared_error(ytest,ml_pred)"
   ]
  },
  {
   "cell_type": "markdown",
   "metadata": {
    "pycharm": {
     "name": "#%% md\n"
    }
   },
   "source": [
    "# Knn Regressor"
   ]
  },
  {
   "cell_type": "code",
   "execution_count": 17,
   "metadata": {
    "pycharm": {
     "name": "#%%\n"
    }
   },
   "outputs": [],
   "source": [
    "x_train,x_test, y_train,y_test = train_test_split(df.drop(['Weight'],axis=1),df['Weight'],train_size=.70,random_state=42)"
   ]
  },
  {
   "cell_type": "code",
   "execution_count": 18,
   "metadata": {
    "pycharm": {
     "name": "#%%\n"
    }
   },
   "outputs": [
    {
     "data": {
      "text/plain": "      Gender     Height\n553        1  67.594031\n1397       1  71.601697\n7934       0  62.625985\n8367       0  66.136131\n3320       1  71.843308\n...      ...        ...\n5734       0  63.349988\n5191       0  58.861625\n5390       0  64.325406\n860        1  69.074492\n7270       0  67.588840\n\n[5988 rows x 2 columns]",
      "text/html": "<div>\n<style scoped>\n    .dataframe tbody tr th:only-of-type {\n        vertical-align: middle;\n    }\n\n    .dataframe tbody tr th {\n        vertical-align: top;\n    }\n\n    .dataframe thead th {\n        text-align: right;\n    }\n</style>\n<table border=\"1\" class=\"dataframe\">\n  <thead>\n    <tr style=\"text-align: right;\">\n      <th></th>\n      <th>Gender</th>\n      <th>Height</th>\n    </tr>\n  </thead>\n  <tbody>\n    <tr>\n      <th>553</th>\n      <td>1</td>\n      <td>67.594031</td>\n    </tr>\n    <tr>\n      <th>1397</th>\n      <td>1</td>\n      <td>71.601697</td>\n    </tr>\n    <tr>\n      <th>7934</th>\n      <td>0</td>\n      <td>62.625985</td>\n    </tr>\n    <tr>\n      <th>8367</th>\n      <td>0</td>\n      <td>66.136131</td>\n    </tr>\n    <tr>\n      <th>3320</th>\n      <td>1</td>\n      <td>71.843308</td>\n    </tr>\n    <tr>\n      <th>...</th>\n      <td>...</td>\n      <td>...</td>\n    </tr>\n    <tr>\n      <th>5734</th>\n      <td>0</td>\n      <td>63.349988</td>\n    </tr>\n    <tr>\n      <th>5191</th>\n      <td>0</td>\n      <td>58.861625</td>\n    </tr>\n    <tr>\n      <th>5390</th>\n      <td>0</td>\n      <td>64.325406</td>\n    </tr>\n    <tr>\n      <th>860</th>\n      <td>1</td>\n      <td>69.074492</td>\n    </tr>\n    <tr>\n      <th>7270</th>\n      <td>0</td>\n      <td>67.588840</td>\n    </tr>\n  </tbody>\n</table>\n<p>5988 rows × 2 columns</p>\n</div>"
     },
     "execution_count": 18,
     "metadata": {},
     "output_type": "execute_result"
    }
   ],
   "source": [
    "x_train"
   ]
  },
  {
   "cell_type": "code",
   "execution_count": 19,
   "metadata": {
    "pycharm": {
     "name": "#%%\n"
    }
   },
   "outputs": [],
   "source": [
    "from sklearn.neighbors import KNeighborsRegressor\n",
    "knnr =  KNeighborsRegressor()"
   ]
  },
  {
   "cell_type": "code",
   "execution_count": 20,
   "metadata": {
    "pycharm": {
     "name": "#%%\n"
    }
   },
   "outputs": [
    {
     "data": {
      "text/plain": "KNeighborsRegressor()"
     },
     "execution_count": 20,
     "metadata": {},
     "output_type": "execute_result"
    }
   ],
   "source": [
    "knnr.fit(x_train,y_train)"
   ]
  },
  {
   "cell_type": "code",
   "execution_count": 21,
   "metadata": {
    "pycharm": {
     "name": "#%%\n"
    }
   },
   "outputs": [
    {
     "name": "stdout",
     "output_type": "stream",
     "text": [
      "[142.1445657  181.38276924 187.07075266 ... 101.79654426 192.43702356\n",
      " 145.3632227 ]\n"
     ]
    }
   ],
   "source": [
    "knr_pred = knnr.predict(x_test);print(knr_pred)"
   ]
  },
  {
   "cell_type": "code",
   "execution_count": 22,
   "metadata": {
    "pycharm": {
     "name": "#%%\n"
    }
   },
   "outputs": [
    {
     "data": {
      "text/plain": "0.8821086423439015"
     },
     "execution_count": 22,
     "metadata": {},
     "output_type": "execute_result"
    }
   ],
   "source": [
    "before = r2_score(y_test,knr_pred);before"
   ]
  },
  {
   "cell_type": "code",
   "execution_count": 23,
   "metadata": {
    "pycharm": {
     "name": "#%%\n"
    }
   },
   "outputs": [
    {
     "data": {
      "text/plain": "121.33528273624482"
     },
     "execution_count": 23,
     "metadata": {},
     "output_type": "execute_result"
    }
   ],
   "source": [
    "mean_squared_error(y_test,knr_pred)"
   ]
  },
  {
   "cell_type": "markdown",
   "metadata": {},
   "source": [
    "# max_depth"
   ]
  },
  {
   "cell_type": "code",
   "execution_count": 24,
   "metadata": {
    "pycharm": {
     "name": "#%%\n"
    }
   },
   "outputs": [],
   "source": [
    "def absoluteError(x_t,y_t,modelInput):\n",
    "    predict = modelInput.predict(x_t)\n",
    "    errors = y_t-predict\n",
    "    return sum(abs(errors))\n"
   ]
  },
  {
   "cell_type": "code",
   "execution_count": 25,
   "metadata": {
    "pycharm": {
     "name": "#%%\n"
    }
   },
   "outputs": [],
   "source": [
    "from sklearn.ensemble import RandomForestRegressor"
   ]
  },
  {
   "cell_type": "code",
   "execution_count": 26,
   "metadata": {
    "pycharm": {
     "name": "#%%\n"
    }
   },
   "outputs": [
    {
     "data": {
      "text/plain": "<matplotlib.legend.Legend at 0x1265730c460>"
     },
     "execution_count": 26,
     "metadata": {},
     "output_type": "execute_result"
    },
    {
     "data": {
      "text/plain": "<Figure size 432x288 with 1 Axes>",
      "image/png": "[encoded data removed]"
     },
     "metadata": {
      "needs_background": "light"
     },
     "output_type": "display_data"
    }
   ],
   "source": [
    "err = []\n",
    "errIndex = []\n",
    "errTest = []\n",
    "for treedepth in range(1,23):\n",
    "    clf = RandomForestRegressor(random_state=2345,max_depth=treedepth)\n",
    "    model = clf.fit(x_train,y_train)\n",
    "    err.append(absoluteError(x_train,y_train,model))\n",
    "    errTest.append(absoluteError(x_test,y_test,model))\n",
    "    errIndex.append(treedepth)\n",
    "\n",
    "fig, ax = plt.subplots()\n",
    "ax.plot(errIndex,err,'rs-', color=\"orange\",linewidth=1.5)\n",
    "ax.plot(errIndex,errTest,'rs-', color='green',linewidth=1.5)\n",
    "ax.set_xlabel(\"max tree depth\")\n",
    "ax.set_ylabel(\"error\")\n",
    "plt.legend(['train','validate'])"
   ]
  },
  {
   "cell_type": "markdown",
   "metadata": {},
   "source": [
    "# min leaf"
   ]
  },
  {
   "cell_type": "code",
   "execution_count": 27,
   "metadata": {
    "pycharm": {
     "name": "#%%\n"
    }
   },
   "outputs": [
    {
     "data": {
      "text/plain": "<matplotlib.legend.Legend at 0x126573f4850>"
     },
     "execution_count": 27,
     "metadata": {},
     "output_type": "execute_result"
    },
    {
     "data": {
      "text/plain": "<Figure size 432x288 with 1 Axes>",
      "image/png": "[encoded data removed]"
     },
     "metadata": {
      "needs_background": "light"
     },
     "output_type": "display_data"
    }
   ],
   "source": [
    "err = []\n",
    "errIndex = []\n",
    "errTest = []\n",
    "for leaf in range(1,30):\n",
    "    clf = RandomForestRegressor(random_state=2345,min_samples_leaf=leaf)\n",
    "    model = clf.fit(x_train,y_train)\n",
    "    err.append(absoluteError(x_train,y_train,model))\n",
    "    errTest.append(absoluteError(x_test,y_test,model))\n",
    "    errIndex.append(leaf)\n",
    "\n",
    "fig, ax = plt.subplots()\n",
    "ax.plot(errIndex,err,'rs-', color=\"orange\",linewidth=1.5)\n",
    "ax.plot(errIndex,errTest,'rs-', color='green',linewidth=1.5)\n",
    "ax.set_xlabel(\"max tree depth\")\n",
    "ax.set_ylabel(\"error\")\n",
    "plt.legend(['train','validate'])"
   ]
  },
  {
   "cell_type": "code",
   "execution_count": 28,
   "metadata": {
    "pycharm": {
     "name": "#%%\n"
    }
   },
   "outputs": [],
   "source": [
    "grids = {\n",
    "    'n_estimators': [int(x) for x in np.linspace(1,30)],\n",
    "    'max_features':['auto','sqrt','log2'],\n",
    "    'max_depth':[5],\n",
    "    'min_samples_split': [2,3,4],\n",
    "    'min_samples_leaf': [20],\n",
    "    'criterion':['squared_error','absolute_error','poisson']\n",
    "}"
   ]
  },
  {
   "cell_type": "code",
   "execution_count": 29,
   "metadata": {
    "pycharm": {
     "name": "#%%\n"
    }
   },
   "outputs": [],
   "source": [
    "from sklearn.model_selection import RandomizedSearchCV"
   ]
  },
  {
   "cell_type": "code",
   "execution_count": 30,
   "metadata": {
    "pycharm": {
     "name": "#%%\n"
    }
   },
   "outputs": [],
   "source": [
    "from sklearn.ensemble import RandomForestRegressor"
   ]
  },
  {
   "cell_type": "code",
   "execution_count": 31,
   "metadata": {
    "pycharm": {
     "name": "#%%\n"
    }
   },
   "outputs": [],
   "source": [
    "rfr = RandomForestRegressor()"
   ]
  },
  {
   "cell_type": "code",
   "execution_count": 32,
   "metadata": {
    "pycharm": {
     "name": "#%%\n"
    }
   },
   "outputs": [],
   "source": [
    "rmcv = RandomizedSearchCV(estimator=rfr, param_distributions=grids,error_score='raise')"
   ]
  },
  {
   "cell_type": "code",
   "execution_count": 33,
   "metadata": {
    "pycharm": {
     "name": "#%%\n"
    }
   },
   "outputs": [
    {
     "data": {
      "text/plain": "RandomizedSearchCV(error_score='raise', estimator=RandomForestRegressor(),\n                   param_distributions={'criterion': ['squared_error',\n                                                      'absolute_error',\n                                                      'poisson'],\n                                        'max_depth': [5],\n                                        'max_features': ['auto', 'sqrt',\n                                                         'log2'],\n                                        'min_samples_leaf': [20],\n                                        'min_samples_split': [2, 3, 4],\n                                        'n_estimators': [1, 1, 2, 2, 3, 3, 4, 5,\n                                                         5, 6, 6, 7, 8, 8, 9, 9,\n                                                         10, 11, 11, 12, 12, 13,\n                                                         14, 14, 15, 15, 16, 16,\n                                                         17, 18, ...]})"
     },
     "execution_count": 33,
     "metadata": {},
     "output_type": "execute_result"
    }
   ],
   "source": [
    "rmcv"
   ]
  },
  {
   "cell_type": "code",
   "execution_count": 34,
   "metadata": {
    "pycharm": {
     "name": "#%%\n"
    }
   },
   "outputs": [
    {
     "data": {
      "text/plain": "RandomizedSearchCV(error_score='raise', estimator=RandomForestRegressor(),\n                   param_distributions={'criterion': ['squared_error',\n                                                      'absolute_error',\n                                                      'poisson'],\n                                        'max_depth': [5],\n                                        'max_features': ['auto', 'sqrt',\n                                                         'log2'],\n                                        'min_samples_leaf': [20],\n                                        'min_samples_split': [2, 3, 4],\n                                        'n_estimators': [1, 1, 2, 2, 3, 3, 4, 5,\n                                                         5, 6, 6, 7, 8, 8, 9, 9,\n                                                         10, 11, 11, 12, 12, 13,\n                                                         14, 14, 15, 15, 16, 16,\n                                                         17, 18, ...]})"
     },
     "execution_count": 34,
     "metadata": {},
     "output_type": "execute_result"
    }
   ],
   "source": [
    "rmcv.fit(x_train,y_train)"
   ]
  },
  {
   "cell_type": "code",
   "execution_count": 35,
   "metadata": {
    "pycharm": {
     "name": "#%%\n"
    }
   },
   "outputs": [
    {
     "data": {
      "text/plain": "{'n_estimators': 18,\n 'min_samples_split': 4,\n 'min_samples_leaf': 20,\n 'max_features': 'auto',\n 'max_depth': 5,\n 'criterion': 'squared_error'}"
     },
     "execution_count": 35,
     "metadata": {},
     "output_type": "execute_result"
    }
   ],
   "source": [
    "rmcv.best_params_"
   ]
  },
  {
   "cell_type": "code",
   "execution_count": 43,
   "metadata": {
    "pycharm": {
     "name": "#%%\n"
    }
   },
   "outputs": [],
   "source": [
    "knn = KNeighborsRegressor(n_neighbors=18)"
   ]
  },
  {
   "cell_type": "code",
   "execution_count": 44,
   "metadata": {
    "pycharm": {
     "name": "#%%\n"
    }
   },
   "outputs": [
    {
     "data": {
      "text/plain": "KNeighborsRegressor(n_neighbors=18)"
     },
     "execution_count": 44,
     "metadata": {},
     "output_type": "execute_result"
    }
   ],
   "source": [
    "knn.fit(x_train,y_train)"
   ]
  },
  {
   "cell_type": "code",
   "execution_count": 45,
   "metadata": {
    "pycharm": {
     "name": "#%%\n"
    }
   },
   "outputs": [],
   "source": [
    "knn_pred2=knn.predict(x_test)"
   ]
  },
  {
   "cell_type": "code",
   "execution_count": 46,
   "metadata": {
    "pycharm": {
     "name": "#%%\n"
    }
   },
   "outputs": [
    {
     "data": {
      "text/plain": "0.9000167595478338"
     },
     "execution_count": 46,
     "metadata": {},
     "output_type": "execute_result"
    }
   ],
   "source": [
    "after=r2_score(y_test,knn_pred2);after"
   ]
  },
  {
   "cell_type": "code",
   "execution_count": 47,
   "metadata": {
    "pycharm": {
     "name": "#%%\n"
    }
   },
   "outputs": [
    {
     "data": {
      "text/plain": "102.90402104400555"
     },
     "execution_count": 47,
     "metadata": {},
     "output_type": "execute_result"
    }
   ],
   "source": [
    "mean_squared_error(ytest,knn_pred2)"
   ]
  },
  {
   "cell_type": "code",
   "execution_count": 59,
   "metadata": {
    "pycharm": {
     "name": "#%%\n"
    }
   },
   "outputs": [
    {
     "data": {
      "text/plain": "<Figure size 720x576 with 1 Axes>",
      "image/png": "[encoded data removed]"
     },
     "metadata": {
      "needs_background": "light"
     },
     "output_type": "display_data"
    }
   ],
   "source": [
    "fig = plt.figure(figsize=(10,8))\n",
    "ax = fig.add_subplot()\n",
    "fig.subplots_adjust(top=0.85)\n",
    "fig.suptitle('Default knn and after tuning', fontsize=20, fontweight='bold')\n",
    "ax.axis([0, 10, 0, 10])\n",
    "\n",
    "ax.text(2, 7, \"old knn accuracy: {}\".format(before), fontsize=15)\n",
    "ax.text(2, 6, \"old knn mse:{}\".format(mean_squared_error(y_test,knr_pred)), fontsize=15)\n",
    "ax.text(1., 4, \"After tuning k value accuracy:{}\".format(r2_score(y_test,knn_pred2)), fontsize=15)\n",
    "ax.text(1.5, 3, \"After tuning k value mse: {}\".format(mean_squared_error(ytest,knn_pred2)), fontsize=15)\n",
    "plt.show()"
   ]
  },
  {
   "cell_type": "code",
   "execution_count": 60,
   "metadata": {
    "pycharm": {
     "name": "#%%\n"
    }
   },
   "outputs": [
    {
     "data": {
      "text/plain": "<Figure size 720x576 with 1 Axes>",
      "image/png": "[encoded data removed]"
     },
     "metadata": {
      "needs_background": "light"
     },
     "output_type": "display_data"
    }
   ],
   "source": [
    "fig = plt.figure(figsize=(10,8))\n",
    "ax = fig.add_subplot()\n",
    "fig.subplots_adjust(top=0.85)\n",
    "fig.suptitle('Default knn and Linear regression', fontsize=20, fontweight='bold')\n",
    "ax.axis([0, 10, 0, 10])\n",
    "\n",
    "ax.text(2, 7, \"old knn accuracy: {}\".format(before), fontsize=15)\n",
    "ax.text(2, 6, \"old knn mse:{}\".format(mean_squared_error(y_test,knr_pred)), fontsize=15)\n",
    "ax.text(1.5, 4, \"Linear regression accuracy:{}\".format(r2_score(ytest,ml_pred)), fontsize=15)\n",
    "ax.text(1.8, 3, \"Linear regression mse:{}\".format(mean_squared_error(ytest,ml_pred)), fontsize=15)\n",
    "plt.show()"
   ]
  },
  {
   "cell_type": "code",
   "execution_count": null,
   "outputs": [],
   "source": [],
   "metadata": {
    "collapsed": false,
    "pycharm": {
     "name": "#%%\n"
    }
   }
  }
 ],
 "metadata": {
  "kernelspec": {
   "display_name": "Python 3",
   "language": "python",
   "name": "python3"
  },
  "language_info": {
   "codemirror_mode": {
    "name": "ipython",
    "version": 3
   },
   "file_extension": ".py",
   "mimetype": "text/x-python",
   "name": "python",
   "nbconvert_exporter": "python",
   "pygments_lexer": "ipython3",
   "version": "3.8.8"
  }
 },
 "nbformat": 4,
 "nbformat_minor": 1
}