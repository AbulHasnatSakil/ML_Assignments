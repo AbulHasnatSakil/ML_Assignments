{
 "cells": [
  {
   "cell_type": "code",
   "execution_count": 1,
   "id": "c8e38254",
   "metadata": {},
   "outputs": [],
   "source": [
    "import pandas as pd,warnings\n",
    "warnings.filterwarnings('ignore')"
   ]
  },
  {
   "cell_type": "markdown",
   "id": "9b5c5056",
   "metadata": {},
   "source": [
    "# Step 01"
   ]
  },
  {
   "cell_type": "code",
   "execution_count": 2,
   "id": "901b4498",
   "metadata": {},
   "outputs": [
    {
     "data": {
      "text/html": [
       "<div>\n",
       "<style scoped>\n",
       "    .dataframe tbody tr th:only-of-type {\n",
       "        vertical-align: middle;\n",
       "    }\n",
       "\n",
       "    .dataframe tbody tr th {\n",
       "        vertical-align: top;\n",
       "    }\n",
       "\n",
       "    .dataframe thead th {\n",
       "        text-align: right;\n",
       "    }\n",
       "</style>\n",
       "<table border=\"1\" class=\"dataframe\">\n",
       "  <thead>\n",
       "    <tr style=\"text-align: right;\">\n",
       "      <th></th>\n",
       "      <th>Gender</th>\n",
       "      <th>Height</th>\n",
       "      <th>Weight</th>\n",
       "    </tr>\n",
       "  </thead>\n",
       "  <tbody>\n",
       "    <tr>\n",
       "      <th>0</th>\n",
       "      <td>Male</td>\n",
       "      <td>73.847017</td>\n",
       "      <td>241.893563</td>\n",
       "    </tr>\n",
       "    <tr>\n",
       "      <th>1</th>\n",
       "      <td>Male</td>\n",
       "      <td>68.781904</td>\n",
       "      <td>162.310473</td>\n",
       "    </tr>\n",
       "    <tr>\n",
       "      <th>2</th>\n",
       "      <td>Male</td>\n",
       "      <td>74.110105</td>\n",
       "      <td>212.740856</td>\n",
       "    </tr>\n",
       "    <tr>\n",
       "      <th>3</th>\n",
       "      <td>Male</td>\n",
       "      <td>71.730978</td>\n",
       "      <td>220.042470</td>\n",
       "    </tr>\n",
       "    <tr>\n",
       "      <th>4</th>\n",
       "      <td>Male</td>\n",
       "      <td>69.881796</td>\n",
       "      <td>206.349801</td>\n",
       "    </tr>\n",
       "  </tbody>\n",
       "</table>\n",
       "</div>"
      ],
      "text/plain": [
       "  Gender     Height      Weight\n",
       "0   Male  73.847017  241.893563\n",
       "1   Male  68.781904  162.310473\n",
       "2   Male  74.110105  212.740856\n",
       "3   Male  71.730978  220.042470\n",
       "4   Male  69.881796  206.349801"
      ]
     },
     "execution_count": 2,
     "metadata": {},
     "output_type": "execute_result"
    }
   ],
   "source": [
    "df = pd.read_csv('data/weight-height.csv');df.head()"
   ]
  },
  {
   "cell_type": "code",
   "execution_count": 3,
   "id": "02573af3",
   "metadata": {},
   "outputs": [
    {
     "data": {
      "text/plain": [
       "Gender    0\n",
       "Height    0\n",
       "Weight    0\n",
       "dtype: int64"
      ]
     },
     "execution_count": 3,
     "metadata": {},
     "output_type": "execute_result"
    }
   ],
   "source": [
    "df.isnull().sum()"
   ]
  },
  {
   "cell_type": "code",
   "execution_count": 4,
   "id": "599f1ee3",
   "metadata": {
    "scrolled": true
   },
   "outputs": [
    {
     "data": {
      "text/plain": [
       "False"
      ]
     },
     "execution_count": 4,
     "metadata": {},
     "output_type": "execute_result"
    }
   ],
   "source": [
    "[0,1] in df.values"
   ]
  },
  {
   "cell_type": "code",
   "execution_count": 5,
   "id": "93ed85c1",
   "metadata": {},
   "outputs": [],
   "source": [
    "import matplotlib.pyplot as plt"
   ]
  },
  {
   "cell_type": "code",
   "execution_count": 6,
   "id": "f801e27c",
   "metadata": {},
   "outputs": [
    {
     "data": {
      "text/plain": [
       "<matplotlib.legend.Legend at 0x1ebe76e8eb0>"
      ]
     },
     "execution_count": 6,
     "metadata": {},
     "output_type": "execute_result"
    },
    {
     "data": {
      "image/png": "[encoded data removed]",
      "text/plain": [
       "<Figure size 432x288 with 1 Axes>"
      ]
     },
     "metadata": {
      "needs_background": "light"
     },
     "output_type": "display_data"
    }
   ],
   "source": [
    "plt.scatter(df[ df.Gender=='Male']['Height'],df[ df.Gender=='Male']['Weight'],color='green',label='Male')\n",
    "plt.scatter(df[ df.Gender=='Female']['Height'],df[ df.Gender=='Female']['Weight'],color='orange',label='Female')\n",
    "\n",
    "plt.legend()"
   ]
  },
  {
   "cell_type": "code",
   "execution_count": 7,
   "id": "8d563994",
   "metadata": {},
   "outputs": [],
   "source": [
    "from sklearn.preprocessing import LabelEncoder"
   ]
  },
  {
   "cell_type": "code",
   "execution_count": 8,
   "id": "7b6e241d",
   "metadata": {},
   "outputs": [
    {
     "data": {
      "text/html": [
       "<div>\n",
       "<style scoped>\n",
       "    .dataframe tbody tr th:only-of-type {\n",
       "        vertical-align: middle;\n",
       "    }\n",
       "\n",
       "    .dataframe tbody tr th {\n",
       "        vertical-align: top;\n",
       "    }\n",
       "\n",
       "    .dataframe thead th {\n",
       "        text-align: right;\n",
       "    }\n",
       "</style>\n",
       "<table border=\"1\" class=\"dataframe\">\n",
       "  <thead>\n",
       "    <tr style=\"text-align: right;\">\n",
       "      <th></th>\n",
       "      <th>Gender</th>\n",
       "      <th>Height</th>\n",
       "      <th>Weight</th>\n",
       "    </tr>\n",
       "  </thead>\n",
       "  <tbody>\n",
       "    <tr>\n",
       "      <th>0</th>\n",
       "      <td>1</td>\n",
       "      <td>73.847017</td>\n",
       "      <td>241.893563</td>\n",
       "    </tr>\n",
       "    <tr>\n",
       "      <th>1</th>\n",
       "      <td>1</td>\n",
       "      <td>68.781904</td>\n",
       "      <td>162.310473</td>\n",
       "    </tr>\n",
       "    <tr>\n",
       "      <th>2</th>\n",
       "      <td>1</td>\n",
       "      <td>74.110105</td>\n",
       "      <td>212.740856</td>\n",
       "    </tr>\n",
       "    <tr>\n",
       "      <th>3</th>\n",
       "      <td>1</td>\n",
       "      <td>71.730978</td>\n",
       "      <td>220.042470</td>\n",
       "    </tr>\n",
       "    <tr>\n",
       "      <th>4</th>\n",
       "      <td>1</td>\n",
       "      <td>69.881796</td>\n",
       "      <td>206.349801</td>\n",
       "    </tr>\n",
       "  </tbody>\n",
       "</table>\n",
       "</div>"
      ],
      "text/plain": [
       "   Gender     Height      Weight\n",
       "0       1  73.847017  241.893563\n",
       "1       1  68.781904  162.310473\n",
       "2       1  74.110105  212.740856\n",
       "3       1  71.730978  220.042470\n",
       "4       1  69.881796  206.349801"
      ]
     },
     "execution_count": 8,
     "metadata": {},
     "output_type": "execute_result"
    }
   ],
   "source": [
    "df.Gender = LabelEncoder().fit_transform(df.Gender);df.head()"
   ]
  },
  {
   "cell_type": "code",
   "execution_count": 9,
   "id": "5e309447",
   "metadata": {},
   "outputs": [],
   "source": [
    "from sklearn.model_selection import train_test_split"
   ]
  },
  {
   "cell_type": "code",
   "execution_count": 10,
   "id": "b3e63a54",
   "metadata": {},
   "outputs": [],
   "source": [
    "x = df.drop('Weight',axis=1)\n",
    "y = df.Weight"
   ]
  },
  {
   "cell_type": "code",
   "execution_count": 11,
   "id": "549c16d8",
   "metadata": {},
   "outputs": [],
   "source": [
    "xtrain,xtest,ytrain,ytest = train_test_split(x,y,train_size=.70,random_state=1)"
   ]
  },
  {
   "cell_type": "markdown",
   "id": "a7a1842a",
   "metadata": {},
   "source": [
    "# Linear Regression"
   ]
  },
  {
   "cell_type": "code",
   "execution_count": 12,
   "id": "606cd0b3",
   "metadata": {},
   "outputs": [],
   "source": [
    "from sklearn.linear_model import LinearRegression"
   ]
  },
  {
   "cell_type": "code",
   "execution_count": 13,
   "id": "6540313e",
   "metadata": {},
   "outputs": [],
   "source": [
    "lr = LinearRegression().fit(xtrain,ytrain)"
   ]
  },
  {
   "cell_type": "code",
   "execution_count": 14,
   "id": "7f16eff3",
   "metadata": {},
   "outputs": [
    {
     "data": {
      "text/plain": [
       "0.905995960709116"
      ]
     },
     "execution_count": 14,
     "metadata": {},
     "output_type": "execute_result"
    }
   ],
   "source": [
    "lr.score(xtest,ytest)"
   ]
  },
  {
   "cell_type": "code",
   "execution_count": 15,
   "id": "ef6e9967",
   "metadata": {},
   "outputs": [
    {
     "data": {
      "text/plain": [
       "array([143.83013436, 197.53417989, 184.63515112, ..., 160.7078525 ,\n",
       "       186.82852694, 201.4226542 ])"
      ]
     },
     "execution_count": 15,
     "metadata": {},
     "output_type": "execute_result"
    }
   ],
   "source": [
    "lr.predict(xtest)"
   ]
  },
  {
   "cell_type": "code",
   "execution_count": 16,
   "id": "6ae6e527",
   "metadata": {},
   "outputs": [],
   "source": [
    "from sklearn.metrics import mean_squared_error"
   ]
  },
  {
   "cell_type": "code",
   "execution_count": 17,
   "id": "15fd7be3",
   "metadata": {},
   "outputs": [
    {
     "data": {
      "text/plain": [
       "99.67250998070031"
      ]
     },
     "execution_count": 17,
     "metadata": {},
     "output_type": "execute_result"
    }
   ],
   "source": [
    "mean_squared_error(ytest,lr.predict(xtest))"
   ]
  },
  {
   "cell_type": "markdown",
   "id": "0ff5f1f0",
   "metadata": {},
   "source": [
    "# KNeighbors Regressor"
   ]
  },
  {
   "cell_type": "code",
   "execution_count": 18,
   "id": "32674d65",
   "metadata": {},
   "outputs": [],
   "source": [
    "from sklearn.neighbors import KNeighborsRegressor"
   ]
  },
  {
   "cell_type": "code",
   "execution_count": 19,
   "id": "4c9aba50",
   "metadata": {},
   "outputs": [],
   "source": [
    "reg = KNeighborsRegressor().fit(xtrain,ytrain)"
   ]
  },
  {
   "cell_type": "code",
   "execution_count": 20,
   "id": "7f7b7c08",
   "metadata": {},
   "outputs": [
    {
     "data": {
      "text/plain": [
       "0.8838502073708883"
      ]
     },
     "execution_count": 20,
     "metadata": {},
     "output_type": "execute_result"
    }
   ],
   "source": [
    "reg.score(xtest,ytest)"
   ]
  },
  {
   "cell_type": "code",
   "execution_count": 21,
   "id": "0809f90b",
   "metadata": {},
   "outputs": [
    {
     "data": {
      "text/plain": [
       "123.15365863436983"
      ]
     },
     "execution_count": 21,
     "metadata": {},
     "output_type": "execute_result"
    }
   ],
   "source": [
    "mean_squared_error(ytest,reg.predict(xtest))"
   ]
  },
  {
   "cell_type": "code",
   "execution_count": 22,
   "id": "93cbc17a",
   "metadata": {},
   "outputs": [],
   "source": [
    "kn=reg.predict(xtest)"
   ]
  },
  {
   "cell_type": "markdown",
   "id": "0d265193",
   "metadata": {},
   "source": [
    "# Tuning "
   ]
  },
  {
   "cell_type": "markdown",
   "id": "d1764bec",
   "metadata": {},
   "source": [
    "# Randomized Search"
   ]
  },
  {
   "cell_type": "code",
   "execution_count": 25,
   "id": "86d57a93",
   "metadata": {},
   "outputs": [],
   "source": [
    "from sklearn.model_selection import RandomizedSearchCV"
   ]
  },
  {
   "cell_type": "code",
   "execution_count": 26,
   "id": "95ac83be",
   "metadata": {},
   "outputs": [],
   "source": [
    "import numpy as np"
   ]
  },
  {
   "cell_type": "code",
   "execution_count": 27,
   "id": "bc1da6ec",
   "metadata": {},
   "outputs": [],
   "source": [
    "grids = {\n",
    "    'n_neighbors':[int(x) for x in np.linspace(10,200,20)],\n",
    "    'weights':['uniform','distance'],\n",
    "    'algorithm':['auto', 'ball_tree', 'kd_tree', 'brute'] \n",
    "}"
   ]
  },
  {
   "cell_type": "code",
   "execution_count": 28,
   "id": "84204380",
   "metadata": {},
   "outputs": [
    {
     "name": "stdout",
     "output_type": "stream",
     "text": [
      "Wall time: 10.4 s\n"
     ]
    },
    {
     "data": {
      "text/plain": [
       "RandomizedSearchCV(cv=5, estimator=KNeighborsRegressor(), n_iter=100, n_jobs=5,\n",
       "                   param_distributions={'algorithm': ['auto', 'ball_tree',\n",
       "                                                      'kd_tree', 'brute'],\n",
       "                                        'n_neighbors': [10, 20, 30, 40, 50, 60,\n",
       "                                                        70, 80, 90, 100, 110,\n",
       "                                                        120, 130, 140, 150, 160,\n",
       "                                                        170, 180, 190, 200],\n",
       "                                        'weights': ['uniform', 'distance']})"
      ]
     },
     "execution_count": 28,
     "metadata": {},
     "output_type": "execute_result"
    }
   ],
   "source": [
    "rmcv = RandomizedSearchCV(KNeighborsRegressor(),param_distributions=grids,n_iter=100, cv=5, n_jobs=5)\n",
    "%time rmcv.fit(xtrain,ytrain)"
   ]
  },
  {
   "cell_type": "code",
   "execution_count": 29,
   "id": "886fe0f8",
   "metadata": {},
   "outputs": [
    {
     "data": {
      "text/plain": [
       "{'weights': 'uniform', 'n_neighbors': 50, 'algorithm': 'brute'}"
      ]
     },
     "execution_count": 29,
     "metadata": {},
     "output_type": "execute_result"
    }
   ],
   "source": [
    "rmcv.best_params_"
   ]
  },
  {
   "cell_type": "code",
   "execution_count": 30,
   "id": "70a0db9c",
   "metadata": {
    "scrolled": true
   },
   "outputs": [
    {
     "data": {
      "text/html": [
       "<div>\n",
       "<style scoped>\n",
       "    .dataframe tbody tr th:only-of-type {\n",
       "        vertical-align: middle;\n",
       "    }\n",
       "\n",
       "    .dataframe tbody tr th {\n",
       "        vertical-align: top;\n",
       "    }\n",
       "\n",
       "    .dataframe thead th {\n",
       "        text-align: right;\n",
       "    }\n",
       "</style>\n",
       "<table border=\"1\" class=\"dataframe\">\n",
       "  <thead>\n",
       "    <tr style=\"text-align: right;\">\n",
       "      <th></th>\n",
       "      <th>mean_fit_time</th>\n",
       "      <th>std_fit_time</th>\n",
       "      <th>mean_score_time</th>\n",
       "      <th>std_score_time</th>\n",
       "      <th>param_weights</th>\n",
       "      <th>param_n_neighbors</th>\n",
       "      <th>param_algorithm</th>\n",
       "      <th>params</th>\n",
       "      <th>split0_test_score</th>\n",
       "      <th>split1_test_score</th>\n",
       "      <th>split2_test_score</th>\n",
       "      <th>split3_test_score</th>\n",
       "      <th>split4_test_score</th>\n",
       "      <th>mean_test_score</th>\n",
       "      <th>std_test_score</th>\n",
       "      <th>rank_test_score</th>\n",
       "    </tr>\n",
       "  </thead>\n",
       "  <tbody>\n",
       "    <tr>\n",
       "      <th>0</th>\n",
       "      <td>0.005784</td>\n",
       "      <td>0.003117</td>\n",
       "      <td>0.008377</td>\n",
       "      <td>0.003313</td>\n",
       "      <td>uniform</td>\n",
       "      <td>20</td>\n",
       "      <td>kd_tree</td>\n",
       "      <td>{'weights': 'uniform', 'n_neighbors': 20, 'alg...</td>\n",
       "      <td>0.888651</td>\n",
       "      <td>0.893103</td>\n",
       "      <td>0.888252</td>\n",
       "      <td>0.889155</td>\n",
       "      <td>0.897280</td>\n",
       "      <td>0.891288</td>\n",
       "      <td>0.003462</td>\n",
       "      <td>24</td>\n",
       "    </tr>\n",
       "    <tr>\n",
       "      <th>1</th>\n",
       "      <td>0.008776</td>\n",
       "      <td>0.003362</td>\n",
       "      <td>0.039095</td>\n",
       "      <td>0.005549</td>\n",
       "      <td>distance</td>\n",
       "      <td>160</td>\n",
       "      <td>auto</td>\n",
       "      <td>{'weights': 'distance', 'n_neighbors': 160, 'a...</td>\n",
       "      <td>0.876656</td>\n",
       "      <td>0.878790</td>\n",
       "      <td>0.878416</td>\n",
       "      <td>0.879256</td>\n",
       "      <td>0.890279</td>\n",
       "      <td>0.880679</td>\n",
       "      <td>0.004880</td>\n",
       "      <td>58</td>\n",
       "    </tr>\n",
       "    <tr>\n",
       "      <th>2</th>\n",
       "      <td>0.006382</td>\n",
       "      <td>0.003489</td>\n",
       "      <td>0.044681</td>\n",
       "      <td>0.010914</td>\n",
       "      <td>distance</td>\n",
       "      <td>50</td>\n",
       "      <td>ball_tree</td>\n",
       "      <td>{'weights': 'distance', 'n_neighbors': 50, 'al...</td>\n",
       "      <td>0.873434</td>\n",
       "      <td>0.876725</td>\n",
       "      <td>0.876445</td>\n",
       "      <td>0.876587</td>\n",
       "      <td>0.886789</td>\n",
       "      <td>0.877996</td>\n",
       "      <td>0.004564</td>\n",
       "      <td>83</td>\n",
       "    </tr>\n",
       "    <tr>\n",
       "      <th>3</th>\n",
       "      <td>0.003989</td>\n",
       "      <td>0.000891</td>\n",
       "      <td>0.045678</td>\n",
       "      <td>0.002918</td>\n",
       "      <td>distance</td>\n",
       "      <td>80</td>\n",
       "      <td>ball_tree</td>\n",
       "      <td>{'weights': 'distance', 'n_neighbors': 80, 'al...</td>\n",
       "      <td>0.875313</td>\n",
       "      <td>0.877946</td>\n",
       "      <td>0.877416</td>\n",
       "      <td>0.878091</td>\n",
       "      <td>0.888438</td>\n",
       "      <td>0.879441</td>\n",
       "      <td>0.004607</td>\n",
       "      <td>77</td>\n",
       "    </tr>\n",
       "    <tr>\n",
       "      <th>4</th>\n",
       "      <td>0.002394</td>\n",
       "      <td>0.000489</td>\n",
       "      <td>0.288429</td>\n",
       "      <td>0.039851</td>\n",
       "      <td>distance</td>\n",
       "      <td>40</td>\n",
       "      <td>brute</td>\n",
       "      <td>{'weights': 'distance', 'n_neighbors': 40, 'al...</td>\n",
       "      <td>0.872384</td>\n",
       "      <td>0.875740</td>\n",
       "      <td>0.875696</td>\n",
       "      <td>0.875955</td>\n",
       "      <td>0.885807</td>\n",
       "      <td>0.877116</td>\n",
       "      <td>0.004543</td>\n",
       "      <td>90</td>\n",
       "    </tr>\n",
       "  </tbody>\n",
       "</table>\n",
       "</div>"
      ],
      "text/plain": [
       "   mean_fit_time  std_fit_time  mean_score_time  std_score_time param_weights  \\\n",
       "0       0.005784      0.003117         0.008377        0.003313       uniform   \n",
       "1       0.008776      0.003362         0.039095        0.005549      distance   \n",
       "2       0.006382      0.003489         0.044681        0.010914      distance   \n",
       "3       0.003989      0.000891         0.045678        0.002918      distance   \n",
       "4       0.002394      0.000489         0.288429        0.039851      distance   \n",
       "\n",
       "  param_n_neighbors param_algorithm  \\\n",
       "0                20         kd_tree   \n",
       "1               160            auto   \n",
       "2                50       ball_tree   \n",
       "3                80       ball_tree   \n",
       "4                40           brute   \n",
       "\n",
       "                                              params  split0_test_score  \\\n",
       "0  {'weights': 'uniform', 'n_neighbors': 20, 'alg...           0.888651   \n",
       "1  {'weights': 'distance', 'n_neighbors': 160, 'a...           0.876656   \n",
       "2  {'weights': 'distance', 'n_neighbors': 50, 'al...           0.873434   \n",
       "3  {'weights': 'distance', 'n_neighbors': 80, 'al...           0.875313   \n",
       "4  {'weights': 'distance', 'n_neighbors': 40, 'al...           0.872384   \n",
       "\n",
       "   split1_test_score  split2_test_score  split3_test_score  split4_test_score  \\\n",
       "0           0.893103           0.888252           0.889155           0.897280   \n",
       "1           0.878790           0.878416           0.879256           0.890279   \n",
       "2           0.876725           0.876445           0.876587           0.886789   \n",
       "3           0.877946           0.877416           0.878091           0.888438   \n",
       "4           0.875740           0.875696           0.875955           0.885807   \n",
       "\n",
       "   mean_test_score  std_test_score  rank_test_score  \n",
       "0         0.891288        0.003462               24  \n",
       "1         0.880679        0.004880               58  \n",
       "2         0.877996        0.004564               83  \n",
       "3         0.879441        0.004607               77  \n",
       "4         0.877116        0.004543               90  "
      ]
     },
     "execution_count": 30,
     "metadata": {},
     "output_type": "execute_result"
    }
   ],
   "source": [
    "pd.DataFrame(rmcv.cv_results_).head()"
   ]
  },
  {
   "cell_type": "code",
   "execution_count": 31,
   "id": "bf815b28",
   "metadata": {},
   "outputs": [
    {
     "data": {
      "text/plain": [
       "0.893419236196773"
      ]
     },
     "execution_count": 31,
     "metadata": {},
     "output_type": "execute_result"
    }
   ],
   "source": [
    "rmcv.best_score_"
   ]
  },
  {
   "cell_type": "code",
   "execution_count": 32,
   "id": "d63583cd",
   "metadata": {},
   "outputs": [
    {
     "data": {
      "text/plain": [
       "0.9035931970477211"
      ]
     },
     "execution_count": 32,
     "metadata": {},
     "output_type": "execute_result"
    }
   ],
   "source": [
    "rmcv.best_estimator_.score(xtest,ytest)"
   ]
  },
  {
   "cell_type": "markdown",
   "id": "08008d40",
   "metadata": {},
   "source": [
    "# Step-02"
   ]
  },
  {
   "cell_type": "code",
   "execution_count": 39,
   "id": "000519e6",
   "metadata": {},
   "outputs": [],
   "source": [
    "x = df.drop('Gender',axis=1)\n",
    "y = df.Gender"
   ]
  },
  {
   "cell_type": "code",
   "execution_count": 40,
   "id": "2aa8ea1a",
   "metadata": {},
   "outputs": [],
   "source": [
    "xtrain, xtest, ytrain, ytest = train_test_split(x,y,train_size=.70,random_state=1)"
   ]
  },
  {
   "cell_type": "markdown",
   "id": "34c00c93",
   "metadata": {},
   "source": [
    "# KNeighborsClassifier"
   ]
  },
  {
   "cell_type": "code",
   "execution_count": 41,
   "id": "aa118956",
   "metadata": {},
   "outputs": [],
   "source": [
    "from sklearn.neighbors import KNeighborsClassifier"
   ]
  },
  {
   "cell_type": "code",
   "execution_count": 42,
   "id": "732b5e55",
   "metadata": {},
   "outputs": [],
   "source": [
    "kn_clf = KNeighborsClassifier().fit(xtrain,ytrain)"
   ]
  },
  {
   "cell_type": "code",
   "execution_count": 43,
   "id": "a715c210",
   "metadata": {},
   "outputs": [
    {
     "data": {
      "text/plain": [
       "0.9146864043630697"
      ]
     },
     "execution_count": 43,
     "metadata": {},
     "output_type": "execute_result"
    }
   ],
   "source": [
    "kn_clf.score(xtest,ytest)"
   ]
  },
  {
   "cell_type": "code",
   "execution_count": 44,
   "id": "50cd99b7",
   "metadata": {},
   "outputs": [
    {
     "data": {
      "text/plain": [
       "array([1, 1, 1, ..., 0, 1, 1])"
      ]
     },
     "execution_count": 44,
     "metadata": {},
     "output_type": "execute_result"
    }
   ],
   "source": [
    "kn_clf.predict(xtest)"
   ]
  },
  {
   "cell_type": "code",
   "execution_count": 45,
   "id": "77f3f5a2",
   "metadata": {},
   "outputs": [],
   "source": [
    "from sklearn.metrics import confusion_matrix,roc_auc_score,classification_report,plot_roc_curve"
   ]
  },
  {
   "cell_type": "code",
   "execution_count": 46,
   "id": "9e98aec6",
   "metadata": {},
   "outputs": [
    {
     "data": {
      "text/plain": [
       "array([[ 938,  117],\n",
       "       [ 102, 1410]], dtype=int64)"
      ]
     },
     "execution_count": 46,
     "metadata": {},
     "output_type": "execute_result"
    }
   ],
   "source": [
    "confusion_matrix(ytest,kn_clf.predict(xtest))"
   ]
  },
  {
   "cell_type": "code",
   "execution_count": 47,
   "id": "d631781f",
   "metadata": {},
   "outputs": [
    {
     "name": "stdout",
     "output_type": "stream",
     "text": [
      "              precision    recall  f1-score   support\n",
      "\n",
      "           0       0.90      0.89      0.90      1055\n",
      "           1       0.92      0.93      0.93      1512\n",
      "\n",
      "    accuracy                           0.91      2567\n",
      "   macro avg       0.91      0.91      0.91      2567\n",
      "weighted avg       0.91      0.91      0.91      2567\n",
      "\n"
     ]
    }
   ],
   "source": [
    "print(classification_report(ytest,kn_clf.predict(xtest)))"
   ]
  },
  {
   "cell_type": "code",
   "execution_count": 48,
   "id": "5db544f7",
   "metadata": {},
   "outputs": [
    {
     "data": {
      "text/plain": [
       "[<matplotlib.lines.Line2D at 0x1eb80074760>]"
      ]
     },
     "execution_count": 48,
     "metadata": {},
     "output_type": "execute_result"
    },
    {
     "data": {
      "image/png": "[encoded data removed]",
      "text/plain": [
       "<Figure size 432x288 with 1 Axes>"
      ]
     },
     "metadata": {
      "needs_background": "light"
     },
     "output_type": "display_data"
    }
   ],
   "source": [
    "plot_roc_curve(kn_clf,xtest,ytest)\n",
    "plt.plot([0,1])"
   ]
  },
  {
   "cell_type": "code",
   "execution_count": 49,
   "id": "95632eb2",
   "metadata": {},
   "outputs": [
    {
     "data": {
      "text/plain": [
       "0.9126511258878646"
      ]
     },
     "execution_count": 49,
     "metadata": {},
     "output_type": "execute_result"
    }
   ],
   "source": [
    "roc_auc_score(kn_clf.predict(xtest),ytest)"
   ]
  },
  {
   "cell_type": "markdown",
   "id": "7f1838bf",
   "metadata": {},
   "source": [
    "# Tuning"
   ]
  },
  {
   "cell_type": "markdown",
   "id": "5d28fc8e",
   "metadata": {},
   "source": [
    "# Randomized Search CV"
   ]
  },
  {
   "cell_type": "code",
   "execution_count": 50,
   "id": "f301e533",
   "metadata": {},
   "outputs": [
    {
     "name": "stdout",
     "output_type": "stream",
     "text": [
      "Fitting 5 folds for each of 160 candidates, totalling 800 fits\n"
     ]
    },
    {
     "data": {
      "text/plain": [
       "RandomizedSearchCV(cv=5, estimator=KNeighborsClassifier(), n_iter=200, n_jobs=5,\n",
       "                   param_distributions={'algorithm': ['auto', 'ball_tree',\n",
       "                                                      'kd_tree', 'brute'],\n",
       "                                        'n_neighbors': [10, 20, 30, 40, 50, 60,\n",
       "                                                        70, 80, 90, 100, 110,\n",
       "                                                        120, 130, 140, 150, 160,\n",
       "                                                        170, 180, 190, 200],\n",
       "                                        'weights': ['uniform', 'distance']},\n",
       "                   verbose=2)"
      ]
     },
     "execution_count": 50,
     "metadata": {},
     "output_type": "execute_result"
    }
   ],
   "source": [
    "rmcv2 = RandomizedSearchCV(KNeighborsClassifier(), grids, n_iter=200, cv=5,verbose=2,n_jobs=5)\n",
    "rmcv2.fit(xtrain,ytrain)"
   ]
  },
  {
   "cell_type": "code",
   "execution_count": 51,
   "id": "f8d5007c",
   "metadata": {},
   "outputs": [
    {
     "data": {
      "text/plain": [
       "{'weights': 'distance', 'n_neighbors': 60, 'algorithm': 'auto'}"
      ]
     },
     "execution_count": 51,
     "metadata": {},
     "output_type": "execute_result"
    }
   ],
   "source": [
    "rmcv2.best_params_"
   ]
  },
  {
   "cell_type": "code",
   "execution_count": 52,
   "id": "ee7d1942",
   "metadata": {},
   "outputs": [
    {
     "data": {
      "text/html": [
       "<div>\n",
       "<style scoped>\n",
       "    .dataframe tbody tr th:only-of-type {\n",
       "        vertical-align: middle;\n",
       "    }\n",
       "\n",
       "    .dataframe tbody tr th {\n",
       "        vertical-align: top;\n",
       "    }\n",
       "\n",
       "    .dataframe thead th {\n",
       "        text-align: right;\n",
       "    }\n",
       "</style>\n",
       "<table border=\"1\" class=\"dataframe\">\n",
       "  <thead>\n",
       "    <tr style=\"text-align: right;\">\n",
       "      <th></th>\n",
       "      <th>mean_fit_time</th>\n",
       "      <th>std_fit_time</th>\n",
       "      <th>mean_score_time</th>\n",
       "      <th>std_score_time</th>\n",
       "      <th>param_weights</th>\n",
       "      <th>param_n_neighbors</th>\n",
       "      <th>param_algorithm</th>\n",
       "      <th>params</th>\n",
       "      <th>split0_test_score</th>\n",
       "      <th>split1_test_score</th>\n",
       "      <th>split2_test_score</th>\n",
       "      <th>split3_test_score</th>\n",
       "      <th>split4_test_score</th>\n",
       "      <th>mean_test_score</th>\n",
       "      <th>std_test_score</th>\n",
       "      <th>rank_test_score</th>\n",
       "    </tr>\n",
       "  </thead>\n",
       "  <tbody>\n",
       "    <tr>\n",
       "      <th>0</th>\n",
       "      <td>0.003388</td>\n",
       "      <td>0.000486</td>\n",
       "      <td>0.029122</td>\n",
       "      <td>0.001163</td>\n",
       "      <td>uniform</td>\n",
       "      <td>10</td>\n",
       "      <td>auto</td>\n",
       "      <td>{'weights': 'uniform', 'n_neighbors': 10, 'alg...</td>\n",
       "      <td>0.904841</td>\n",
       "      <td>0.910684</td>\n",
       "      <td>0.907346</td>\n",
       "      <td>0.906433</td>\n",
       "      <td>0.923977</td>\n",
       "      <td>0.910656</td>\n",
       "      <td>0.006929</td>\n",
       "      <td>129</td>\n",
       "    </tr>\n",
       "    <tr>\n",
       "      <th>1</th>\n",
       "      <td>0.003391</td>\n",
       "      <td>0.000489</td>\n",
       "      <td>0.005186</td>\n",
       "      <td>0.000977</td>\n",
       "      <td>distance</td>\n",
       "      <td>10</td>\n",
       "      <td>auto</td>\n",
       "      <td>{'weights': 'distance', 'n_neighbors': 10, 'al...</td>\n",
       "      <td>0.886477</td>\n",
       "      <td>0.908180</td>\n",
       "      <td>0.902337</td>\n",
       "      <td>0.915622</td>\n",
       "      <td>0.916458</td>\n",
       "      <td>0.905815</td>\n",
       "      <td>0.010964</td>\n",
       "      <td>157</td>\n",
       "    </tr>\n",
       "    <tr>\n",
       "      <th>2</th>\n",
       "      <td>0.003391</td>\n",
       "      <td>0.000489</td>\n",
       "      <td>0.030918</td>\n",
       "      <td>0.001784</td>\n",
       "      <td>uniform</td>\n",
       "      <td>20</td>\n",
       "      <td>auto</td>\n",
       "      <td>{'weights': 'uniform', 'n_neighbors': 20, 'alg...</td>\n",
       "      <td>0.903172</td>\n",
       "      <td>0.911519</td>\n",
       "      <td>0.918197</td>\n",
       "      <td>0.907268</td>\n",
       "      <td>0.925647</td>\n",
       "      <td>0.913161</td>\n",
       "      <td>0.007981</td>\n",
       "      <td>21</td>\n",
       "    </tr>\n",
       "    <tr>\n",
       "      <th>3</th>\n",
       "      <td>0.003390</td>\n",
       "      <td>0.000488</td>\n",
       "      <td>0.006782</td>\n",
       "      <td>0.000399</td>\n",
       "      <td>distance</td>\n",
       "      <td>20</td>\n",
       "      <td>auto</td>\n",
       "      <td>{'weights': 'distance', 'n_neighbors': 20, 'al...</td>\n",
       "      <td>0.898998</td>\n",
       "      <td>0.908180</td>\n",
       "      <td>0.908180</td>\n",
       "      <td>0.912281</td>\n",
       "      <td>0.924812</td>\n",
       "      <td>0.910490</td>\n",
       "      <td>0.008379</td>\n",
       "      <td>133</td>\n",
       "    </tr>\n",
       "    <tr>\n",
       "      <th>4</th>\n",
       "      <td>0.004188</td>\n",
       "      <td>0.000977</td>\n",
       "      <td>0.032513</td>\n",
       "      <td>0.001197</td>\n",
       "      <td>uniform</td>\n",
       "      <td>30</td>\n",
       "      <td>auto</td>\n",
       "      <td>{'weights': 'uniform', 'n_neighbors': 30, 'alg...</td>\n",
       "      <td>0.902337</td>\n",
       "      <td>0.913189</td>\n",
       "      <td>0.917362</td>\n",
       "      <td>0.903926</td>\n",
       "      <td>0.925647</td>\n",
       "      <td>0.912492</td>\n",
       "      <td>0.008646</td>\n",
       "      <td>49</td>\n",
       "    </tr>\n",
       "  </tbody>\n",
       "</table>\n",
       "</div>"
      ],
      "text/plain": [
       "   mean_fit_time  std_fit_time  mean_score_time  std_score_time param_weights  \\\n",
       "0       0.003388      0.000486         0.029122        0.001163       uniform   \n",
       "1       0.003391      0.000489         0.005186        0.000977      distance   \n",
       "2       0.003391      0.000489         0.030918        0.001784       uniform   \n",
       "3       0.003390      0.000488         0.006782        0.000399      distance   \n",
       "4       0.004188      0.000977         0.032513        0.001197       uniform   \n",
       "\n",
       "  param_n_neighbors param_algorithm  \\\n",
       "0                10            auto   \n",
       "1                10            auto   \n",
       "2                20            auto   \n",
       "3                20            auto   \n",
       "4                30            auto   \n",
       "\n",
       "                                              params  split0_test_score  \\\n",
       "0  {'weights': 'uniform', 'n_neighbors': 10, 'alg...           0.904841   \n",
       "1  {'weights': 'distance', 'n_neighbors': 10, 'al...           0.886477   \n",
       "2  {'weights': 'uniform', 'n_neighbors': 20, 'alg...           0.903172   \n",
       "3  {'weights': 'distance', 'n_neighbors': 20, 'al...           0.898998   \n",
       "4  {'weights': 'uniform', 'n_neighbors': 30, 'alg...           0.902337   \n",
       "\n",
       "   split1_test_score  split2_test_score  split3_test_score  split4_test_score  \\\n",
       "0           0.910684           0.907346           0.906433           0.923977   \n",
       "1           0.908180           0.902337           0.915622           0.916458   \n",
       "2           0.911519           0.918197           0.907268           0.925647   \n",
       "3           0.908180           0.908180           0.912281           0.924812   \n",
       "4           0.913189           0.917362           0.903926           0.925647   \n",
       "\n",
       "   mean_test_score  std_test_score  rank_test_score  \n",
       "0         0.910656        0.006929              129  \n",
       "1         0.905815        0.010964              157  \n",
       "2         0.913161        0.007981               21  \n",
       "3         0.910490        0.008379              133  \n",
       "4         0.912492        0.008646               49  "
      ]
     },
     "execution_count": 52,
     "metadata": {},
     "output_type": "execute_result"
    }
   ],
   "source": [
    "pd.DataFrame(rmcv2.cv_results_).head()"
   ]
  },
  {
   "cell_type": "code",
   "execution_count": 53,
   "id": "403f1f16",
   "metadata": {},
   "outputs": [
    {
     "data": {
      "text/plain": [
       "0.9139965941565098"
      ]
     },
     "execution_count": 53,
     "metadata": {},
     "output_type": "execute_result"
    }
   ],
   "source": [
    "rmcv2.best_score_"
   ]
  },
  {
   "cell_type": "code",
   "execution_count": 54,
   "id": "20c27334",
   "metadata": {},
   "outputs": [
    {
     "data": {
      "text/plain": [
       "0.9228671601090768"
      ]
     },
     "execution_count": 54,
     "metadata": {},
     "output_type": "execute_result"
    }
   ],
   "source": [
    "rmcv2.best_estimator_.score(xtest,ytest)"
   ]
  }
 ],
 "metadata": {
  "kernelspec": {
   "display_name": "Python 3",
   "language": "python",
   "name": "python3"
  },
  "language_info": {
   "codemirror_mode": {
    "name": "ipython",
    "version": 3
   },
   "file_extension": ".py",
   "mimetype": "text/x-python",
   "name": "python",
   "nbconvert_exporter": "python",
   "pygments_lexer": "ipython3",
   "version": "3.8.8"
  }
 },
 "nbformat": 4,
 "nbformat_minor": 5
}
